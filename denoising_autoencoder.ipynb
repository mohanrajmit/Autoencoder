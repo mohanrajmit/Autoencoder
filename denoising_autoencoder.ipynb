{
  "nbformat": 4,
  "nbformat_minor": 0,
  "metadata": {
    "colab": {
      "provenance": [],
      "authorship_tag": "ABX9TyN+B8NV3R/FizTx3hU3x4v9",
      "include_colab_link": true
    },
    "kernelspec": {
      "name": "python3",
      "display_name": "Python 3"
    },
    "language_info": {
      "name": "python"
    },
    "accelerator": "GPU"
  },
  "cells": [
    {
      "cell_type": "markdown",
      "metadata": {
        "id": "view-in-github",
        "colab_type": "text"
      },
      "source": [
        "<a href=\"https://colab.research.google.com/github/mohanrajmit/Autoencoder/blob/master/denoising_autoencoder.ipynb\" target=\"_parent\"><img src=\"https://colab.research.google.com/assets/colab-badge.svg\" alt=\"Open In Colab\"/></a>"
      ]
    },
    {
      "cell_type": "code",
      "execution_count": 1,
      "metadata": {
        "id": "YZfu7YcL-GVC"
      },
      "outputs": [],
      "source": [
        "#import the necessary packages\n",
        "from tensorflow.keras.layers import BatchNormalization\n",
        "from tensorflow.keras.layers import Conv2D\n",
        "from tensorflow.keras.layers import Conv2DTranspose\n",
        "from tensorflow.keras.layers import LeakyReLU\n",
        "from tensorflow.keras.layers import Activation\n",
        "from tensorflow.keras.layers import Flatten\n",
        "from tensorflow.keras.layers import Dense\n",
        "from tensorflow.keras.layers import Reshape\n",
        "from tensorflow.keras.layers import Input\n",
        "from tensorflow.keras.models import Model\n",
        "from tensorflow.keras import backend as K\n",
        "import numpy as np\n"
      ]
    },
    {
      "cell_type": "code",
      "source": [
        "def build(width, height, depth, filters=(32, 64), latentDim=16):\n",
        "  # initialize the input shape to be \"channels last\" along with\n",
        "  # the channels dimension itself\n",
        "  # channels dimension itself\n",
        "  inputShape = (height, width, depth)\n",
        "  chanDim = -1\n",
        "  # define the input to the encoder\n",
        "  inputs = Input(shape=inputShape)\n",
        "  x = inputs\n",
        "  # loop over the number of filters\n",
        "  for f in filters:\n",
        "    # apply a CONV => RELU => BN operation\n",
        "    x = Conv2D(f, (3, 3), strides=2, padding=\"same\")(x)\n",
        "    x = LeakyReLU(alpha=0.2)(x)\n",
        "    x = BatchNormalization(axis=chanDim)(x)\n",
        "  # flatten the network and then construct our latent vector\n",
        "  volumeSize = K.int_shape(x)\n",
        "  x = Flatten()(x)\n",
        "  latent = Dense(latentDim)(x)\n",
        "  # build the encoder model\n",
        "  encoder = Model(inputs, latent, name=\"encoder\")#encoder.summary()\n",
        "  # start building the decoder model which will accept the\n",
        "  # output of the encoder as its inputs\n",
        "  latentInputs = Input(shape=(latentDim,))\n",
        "  x = Dense(np.prod(volumeSize[1:]))(latentInputs)\n",
        "  x = Reshape((volumeSize[1], volumeSize[2], volumeSize[3]))(x)\n",
        "  # loop over our number of filters again, but this time in\n",
        "  # reverse order\n",
        "  for f in filters[::-1]:\n",
        "    # apply a CONV_TRANSPOSE => RELU => BN operation\n",
        "    x = Conv2DTranspose(f, (3, 3), strides=2,\n",
        "      padding=\"same\")(x)\n",
        "    x = LeakyReLU(alpha=0.2)(x)\n",
        "    x = BatchNormalization(axis=chanDim)(x)\n",
        "    # apply a single CONV_TRANSPOSE layer used to recover the\n",
        "  # original depth of the image\n",
        "  x = Conv2DTranspose(depth, (3, 3), padding=\"same\")(x)\n",
        "  outputs = Activation(\"sigmoid\")(x)\n",
        "  # build the decoder model\n",
        "  decoder = Model(latentInputs, outputs, name=\"decoder\")\n",
        "  # our autoencoder is the encoder + decoder\n",
        "  autoencoder = Model(inputs, decoder(encoder(inputs)),name=\"autoencoder\")\n",
        "  # return a 3-tuple of the encoder, decoder, and autoencoder\n",
        "  return (encoder, decoder, autoencoder)"
      ],
      "metadata": {
        "id": "W437GlEL-hHJ"
      },
      "execution_count": 2,
      "outputs": []
    },
    {
      "cell_type": "code",
      "source": [
        "from tensorflow.keras.optimizers import Adam\n",
        "from tensorflow.keras.datasets import mnist\n",
        "import matplotlib.pyplot as plt\n",
        "import numpy as np\n",
        "import cv2"
      ],
      "metadata": {
        "id": "-L-dTZl8_rg4"
      },
      "execution_count": 3,
      "outputs": []
    },
    {
      "cell_type": "code",
      "source": [
        "# initialize the number of epochs to train for and batch size\n",
        "EPOCHS = 25\n",
        "BS = 32\n",
        "# load the MNIST dataset\n",
        "print(\"[INFO] loading MNIST dataset...\")\n",
        "((trainX, _), (testX, _)) = mnist.load_data()\n",
        "# add a channel dimension to every image in the dataset, then scale\n",
        "# the pixel intensities to the range [0, 1]\n",
        "trainX = np.expand_dims(trainX, axis=-1)\n",
        "testX = np.expand_dims(testX, axis=-1)\n",
        "trainX = trainX.astype(\"float32\") / 255.0\n",
        "testX = testX.astype(\"float32\") / 255.0"
      ],
      "metadata": {
        "colab": {
          "base_uri": "https://localhost:8080/"
        },
        "id": "1hv3WNVrAMVJ",
        "outputId": "897a1939-45a4-4bdf-e542-5793e70cc6e4"
      },
      "execution_count": 4,
      "outputs": [
        {
          "output_type": "stream",
          "name": "stdout",
          "text": [
            "[INFO] loading MNIST dataset...\n",
            "Downloading data from https://storage.googleapis.com/tensorflow/tf-keras-datasets/mnist.npz\n",
            "11493376/11490434 [==============================] - 0s 0us/step\n",
            "11501568/11490434 [==============================] - 0s 0us/step\n"
          ]
        }
      ]
    },
    {
      "cell_type": "code",
      "source": [
        "# sample noise from a random normal distribution centered at 0.5 (since\n",
        "# our images lie in the range [0, 1]) and a standard deviation of 0.5\n",
        "trainNoise = np.random.normal(loc=0.5, scale=0.5, size=trainX.shape)\n",
        "testNoise = np.random.normal(loc=0.5, scale=0.5, size=testX.shape)\n",
        "trainXNoisy = np.clip(trainX + trainNoise, 0, 1)\n",
        "testXNoisy = np.clip(testX + testNoise, 0, 1)"
      ],
      "metadata": {
        "id": "45kPdhHvod4R"
      },
      "execution_count": 10,
      "outputs": []
    },
    {
      "cell_type": "code",
      "source": [
        "from google.colab.patches import cv2_imshow\n"
      ],
      "metadata": {
        "id": "tzwEHkO_pNC6"
      },
      "execution_count": 11,
      "outputs": []
    },
    {
      "cell_type": "code",
      "source": [
        "\n",
        "cv2_imshow((testXNoisy[1] * 255).astype(\"uint8\"))"
      ],
      "metadata": {
        "colab": {
          "base_uri": "https://localhost:8080/",
          "height": 45
        },
        "id": "LFzJTvOsosrX",
        "outputId": "e256f3ed-170b-487b-a830-eaf7a43e1ef7"
      },
      "execution_count": 23,
      "outputs": [
        {
          "output_type": "display_data",
          "data": {
            "text/plain": [
              "<PIL.Image.Image image mode=RGB size=28x28 at 0x7F2B1631B690>"
            ],
            "image/png": "[encoded data removed]"
          },
          "metadata": {}
        }
      ]
    },
    {
      "cell_type": "code",
      "source": [
        "cv2_imshow((testX[1]* 255).astype(\"uint8\"))"
      ],
      "metadata": {
        "id": "8aKAgDsNr3ME",
        "outputId": "d0db3f0b-3a3d-44d4-81e0-3c163bda9791",
        "colab": {
          "base_uri": "https://localhost:8080/",
          "height": 45
        }
      },
      "execution_count": 22,
      "outputs": [
        {
          "output_type": "display_data",
          "data": {
            "text/plain": [
              "<PIL.Image.Image image mode=RGB size=28x28 at 0x7F2B16355F50>"
            ],
            "image/png": "[encoded data removed]"
          },
          "metadata": {}
        }
      ]
    },
    {
      "cell_type": "code",
      "source": [
        "#construct our convolutional autoencoder\n",
        "print(\"[INFO] building autoencoder...\")\n",
        "(encoder, decoder, autoencoder) = build(28, 28, 1)\n",
        "opt = Adam(lr=1e-3)\n",
        "autoencoder.compile(loss=\"mse\", optimizer=opt)\n"
      ],
      "metadata": {
        "colab": {
          "base_uri": "https://localhost:8080/"
        },
        "id": "gwAQGu32AS-3",
        "outputId": "54ab6613-534c-4122-87d2-0b39ca38dcb9"
      },
      "execution_count": 14,
      "outputs": [
        {
          "output_type": "stream",
          "name": "stdout",
          "text": [
            "[INFO] building autoencoder...\n"
          ]
        },
        {
          "output_type": "stream",
          "name": "stderr",
          "text": [
            "/usr/local/lib/python3.7/dist-packages/keras/optimizer_v2/adam.py:105: UserWarning: The `lr` argument is deprecated, use `learning_rate` instead.\n",
            "  super(Adam, self).__init__(name, **kwargs)\n"
          ]
        }
      ]
    },
    {
      "cell_type": "code",
      "source": [
        "autoencoder.summary()"
      ],
      "metadata": {
        "colab": {
          "base_uri": "https://localhost:8080/"
        },
        "id": "F4YLF670AdDM",
        "outputId": "d25366a4-372b-4479-8f3f-ac9bc49d10b6"
      },
      "execution_count": 15,
      "outputs": [
        {
          "output_type": "stream",
          "name": "stdout",
          "text": [
            "Model: \"autoencoder\"\n",
            "_________________________________________________________________\n",
            " Layer (type)                Output Shape              Param #   \n",
            "=================================================================\n",
            " input_1 (InputLayer)        [(None, 28, 28, 1)]       0         \n",
            "                                                                 \n",
            " encoder (Functional)        (None, 16)                69392     \n",
            "                                                                 \n",
            " decoder (Functional)        (None, 28, 28, 1)         109377    \n",
            "                                                                 \n",
            "=================================================================\n",
            "Total params: 178,769\n",
            "Trainable params: 178,385\n",
            "Non-trainable params: 384\n",
            "_________________________________________________________________\n"
          ]
        }
      ]
    },
    {
      "cell_type": "code",
      "source": [
        "# train the convolutional autoencoder\n",
        "H = autoencoder.fit(trainXNoisy, trainX,validation_data=(testXNoisy, testX),epochs=EPOCHS,batch_size=BS)"
      ],
      "metadata": {
        "colab": {
          "base_uri": "https://localhost:8080/"
        },
        "id": "NEAD1wHZAilk",
        "outputId": "6d5c589e-696b-44b0-9f12-262a284d22f3"
      },
      "execution_count": 16,
      "outputs": [
        {
          "output_type": "stream",
          "name": "stdout",
          "text": [
            "Epoch 1/25\n",
            "1875/1875 [==============================] - 21s 5ms/step - loss: 0.0276 - val_loss: 0.0204\n",
            "Epoch 2/25\n",
            "1875/1875 [==============================] - 8s 4ms/step - loss: 0.0187 - val_loss: 0.0177\n",
            "Epoch 3/25\n",
            "1875/1875 [==============================] - 8s 4ms/step - loss: 0.0177 - val_loss: 0.0189\n",
            "Epoch 4/25\n",
            "1875/1875 [==============================] - 9s 5ms/step - loss: 0.0171 - val_loss: 0.0172\n",
            "Epoch 5/25\n",
            "1875/1875 [==============================] - 9s 5ms/step - loss: 0.0167 - val_loss: 0.0165\n",
            "Epoch 6/25\n",
            "1875/1875 [==============================] - 9s 5ms/step - loss: 0.0164 - val_loss: 0.0165\n",
            "Epoch 7/25\n",
            "1875/1875 [==============================] - 9s 5ms/step - loss: 0.0161 - val_loss: 0.0165\n",
            "Epoch 8/25\n",
            "1875/1875 [==============================] - 8s 4ms/step - loss: 0.0159 - val_loss: 0.0165\n",
            "Epoch 9/25\n",
            "1875/1875 [==============================] - 9s 5ms/step - loss: 0.0157 - val_loss: 0.0158\n",
            "Epoch 10/25\n",
            "1875/1875 [==============================] - 9s 5ms/step - loss: 0.0156 - val_loss: 0.0162\n",
            "Epoch 11/25\n",
            "1875/1875 [==============================] - 9s 5ms/step - loss: 0.0155 - val_loss: 0.0160\n",
            "Epoch 12/25\n",
            "1875/1875 [==============================] - 8s 4ms/step - loss: 0.0153 - val_loss: 0.0158\n",
            "Epoch 13/25\n",
            "1875/1875 [==============================] - 8s 4ms/step - loss: 0.0152 - val_loss: 0.0163\n",
            "Epoch 14/25\n",
            "1875/1875 [==============================] - 9s 5ms/step - loss: 0.0151 - val_loss: 0.0159\n",
            "Epoch 15/25\n",
            "1875/1875 [==============================] - 8s 4ms/step - loss: 0.0150 - val_loss: 0.0155\n",
            "Epoch 16/25\n",
            "1875/1875 [==============================] - 9s 5ms/step - loss: 0.0150 - val_loss: 0.0162\n",
            "Epoch 17/25\n",
            "1875/1875 [==============================] - 8s 4ms/step - loss: 0.0149 - val_loss: 0.0158\n",
            "Epoch 18/25\n",
            "1875/1875 [==============================] - 8s 4ms/step - loss: 0.0148 - val_loss: 0.0155\n",
            "Epoch 19/25\n",
            "1875/1875 [==============================] - 8s 4ms/step - loss: 0.0148 - val_loss: 0.0158\n",
            "Epoch 20/25\n",
            "1875/1875 [==============================] - 9s 5ms/step - loss: 0.0147 - val_loss: 0.0153\n",
            "Epoch 21/25\n",
            "1875/1875 [==============================] - 8s 4ms/step - loss: 0.0146 - val_loss: 0.0158\n",
            "Epoch 22/25\n",
            "1875/1875 [==============================] - 8s 4ms/step - loss: 0.0146 - val_loss: 0.0155\n",
            "Epoch 23/25\n",
            "1875/1875 [==============================] - 9s 5ms/step - loss: 0.0145 - val_loss: 0.0153\n",
            "Epoch 24/25\n",
            "1875/1875 [==============================] - 9s 5ms/step - loss: 0.0145 - val_loss: 0.0155\n",
            "Epoch 25/25\n",
            "1875/1875 [==============================] - 9s 5ms/step - loss: 0.0144 - val_loss: 0.0153\n"
          ]
        }
      ]
    },
    {
      "cell_type": "code",
      "source": [
        "# construct a plot that plots and saves the training history\n",
        "N = np.arange(0, EPOCHS)\n",
        "plt.style.use(\"ggplot\")\n",
        "plt.figure()\n",
        "plt.plot(N, H.history[\"loss\"], label=\"train_loss\")\n",
        "plt.plot(N, H.history[\"val_loss\"], label=\"val_loss\")\n",
        "plt.title(\"Training Loss and Accuracy\")\n",
        "plt.xlabel(\"Epoch #\")\n",
        "plt.ylabel(\"Loss/Accuracy\")\n",
        "plt.legend(loc=\"lower left\")\n",
        "#plt.savefig(\"/content/loss.png\")"
      ],
      "metadata": {
        "colab": {
          "base_uri": "https://localhost:8080/",
          "height": 316
        },
        "id": "4-2LAYw1AqJe",
        "outputId": "2fc7d8bb-be52-46be-a528-2215790b2aba"
      },
      "execution_count": 17,
      "outputs": [
        {
          "output_type": "execute_result",
          "data": {
            "text/plain": [
              "<matplotlib.legend.Legend at 0x7f2b163f4310>"
            ]
          },
          "metadata": {},
          "execution_count": 17
        },
        {
          "output_type": "display_data",
          "data": {
            "text/plain": [
              "<Figure size 432x288 with 1 Axes>"
            ],
            "image/png": "[encoded data removed]"
          },
          "metadata": {}
        }
      ]
    },
    {
      "cell_type": "code",
      "source": [
        "# use the convolutional autoencoder to make predictions on the\n",
        "# testing images, then initialize our list of output images\n",
        "print(\"[INFO] making predictions...\")\n",
        "decoded = autoencoder.predict(testX)\n",
        "outputs = None\n",
        "# loop over our number of output samples\n",
        "for i in range(0, 10):\n",
        "\t# grab the original image and reconstructed image\n",
        "\toriginal = (testXNoisy[i] * 255).astype(\"uint8\")\n",
        "\trecon = (decoded[i] * 255).astype(\"uint8\")\n",
        "\t# stack the original and reconstructed image side-by-side\n",
        "\toutput = np.hstack([original, recon])\n",
        "\t# if the outputs array is empty, initialize it as the current\n",
        "\t# side-by-side image display\n",
        "\tif outputs is None:\n",
        "\t\toutputs = output\n",
        "\t# otherwise, vertically stack the outputs\n",
        "\telse:\n",
        "\t\toutputs = np.vstack([outputs, output])\n",
        "# save the outputs image to disk\n",
        "cv2_imshow(outputs)"
      ],
      "metadata": {
        "colab": {
          "base_uri": "https://localhost:8080/",
          "height": 314
        },
        "id": "TntJ1gQ8BZXK",
        "outputId": "98cf1c56-2b34-4eff-d4dc-6da5299976ef"
      },
      "execution_count": 18,
      "outputs": [
        {
          "output_type": "stream",
          "name": "stdout",
          "text": [
            "[INFO] making predictions...\n"
          ]
        },
        {
          "output_type": "display_data",
          "data": {
            "text/plain": [
              "<PIL.Image.Image image mode=RGB size=56x280 at 0x7F2B16347A10>"
            ],
            "image/png": "[encoded data removed]"
          },
          "metadata": {}
        }
      ]
    },
    {
      "cell_type": "code",
      "source": [],
      "metadata": {
        "id": "9THDAmUrCdNd"
      },
      "execution_count": null,
      "outputs": []
    }
  ]
}