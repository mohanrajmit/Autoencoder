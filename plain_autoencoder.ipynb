{
  "nbformat": 4,
  "nbformat_minor": 0,
  "metadata": {
    "colab": {
      "provenance": [],
      "authorship_tag": "ABX9TyPXu3PsdiXxwTBcLP59d9zo",
      "include_colab_link": true
    },
    "kernelspec": {
      "name": "python3",
      "display_name": "Python 3"
    },
    "language_info": {
      "name": "python"
    },
    "accelerator": "GPU"
  },
  "cells": [
    {
      "cell_type": "markdown",
      "metadata": {
        "id": "view-in-github",
        "colab_type": "text"
      },
      "source": [
        "<a href=\"https://colab.research.google.com/github/mohanrajmit/Autoencoder/blob/master/plain_autoencoder.ipynb\" target=\"_parent\"><img src=\"https://colab.research.google.com/assets/colab-badge.svg\" alt=\"Open In Colab\"/></a>"
      ]
    },
    {
      "cell_type": "code",
      "execution_count": 1,
      "metadata": {
        "id": "YZfu7YcL-GVC"
      },
      "outputs": [],
      "source": [
        "#import the necessary packages\n",
        "from tensorflow.keras.layers import BatchNormalization\n",
        "from tensorflow.keras.layers import Conv2D\n",
        "from tensorflow.keras.layers import Conv2DTranspose\n",
        "from tensorflow.keras.layers import LeakyReLU\n",
        "from tensorflow.keras.layers import Activation\n",
        "from tensorflow.keras.layers import Flatten\n",
        "from tensorflow.keras.layers import Dense\n",
        "from tensorflow.keras.layers import Reshape\n",
        "from tensorflow.keras.layers import Input\n",
        "from tensorflow.keras.models import Model\n",
        "from tensorflow.keras import backend as K\n",
        "import numpy as np\n"
      ]
    },
    {
      "cell_type": "code",
      "source": [
        "def build(width, height, depth, filters=(32, 64), latentDim=16):\n",
        "  # initialize the input shape to be \"channels last\" along with\n",
        "  # the channels dimension itself\n",
        "  # channels dimension itself\n",
        "  inputShape = (height, width, depth)\n",
        "  chanDim = -1\n",
        "  # define the input to the encoder\n",
        "  inputs = Input(shape=inputShape)\n",
        "  x = inputs\n",
        "  # loop over the number of filters\n",
        "  for f in filters:\n",
        "    # apply a CONV => RELU => BN operation\n",
        "    x = Conv2D(f, (3, 3), strides=2, padding=\"same\")(x)\n",
        "    x = LeakyReLU(alpha=0.2)(x)\n",
        "    x = BatchNormalization(axis=chanDim)(x)\n",
        "  # flatten the network and then construct our latent vector\n",
        "  volumeSize = K.int_shape(x)\n",
        "  x = Flatten()(x)\n",
        "  latent = Dense(latentDim)(x)\n",
        "  # build the encoder model\n",
        "  encoder = Model(inputs, latent, name=\"encoder\")#encoder.summary()\n",
        "  # start building the decoder model which will accept the\n",
        "  # output of the encoder as its inputs\n",
        "  latentInputs = Input(shape=(latentDim,))\n",
        "  x = Dense(np.prod(volumeSize[1:]))(latentInputs)\n",
        "  x = Reshape((volumeSize[1], volumeSize[2], volumeSize[3]))(x)\n",
        "  # loop over our number of filters again, but this time in\n",
        "  # reverse order\n",
        "  for f in filters[::-1]:\n",
        "    # apply a CONV_TRANSPOSE => RELU => BN operation\n",
        "    x = Conv2DTranspose(f, (3, 3), strides=2,\n",
        "      padding=\"same\")(x)\n",
        "    x = LeakyReLU(alpha=0.2)(x)\n",
        "    x = BatchNormalization(axis=chanDim)(x)\n",
        "    # apply a single CONV_TRANSPOSE layer used to recover the\n",
        "  # original depth of the image\n",
        "  x = Conv2DTranspose(depth, (3, 3), padding=\"same\")(x)\n",
        "  outputs = Activation(\"sigmoid\")(x)\n",
        "  # build the decoder model\n",
        "  decoder = Model(latentInputs, outputs, name=\"decoder\")\n",
        "  # our autoencoder is the encoder + decoder\n",
        "  autoencoder = Model(inputs, decoder(encoder(inputs)),name=\"autoencoder\")\n",
        "  # return a 3-tuple of the encoder, decoder, and autoencoder\n",
        "  return (encoder, decoder, autoencoder)"
      ],
      "metadata": {
        "id": "W437GlEL-hHJ"
      },
      "execution_count": 2,
      "outputs": []
    },
    {
      "cell_type": "code",
      "source": [
        "from tensorflow.keras.optimizers import Adam\n",
        "from tensorflow.keras.datasets import mnist\n",
        "import matplotlib.pyplot as plt\n",
        "import numpy as np\n",
        "import cv2"
      ],
      "metadata": {
        "id": "-L-dTZl8_rg4"
      },
      "execution_count": 3,
      "outputs": []
    },
    {
      "cell_type": "code",
      "source": [
        "# initialize the number of epochs to train for and batch size\n",
        "EPOCHS = 25\n",
        "BS = 32\n",
        "# load the MNIST dataset\n",
        "print(\"[INFO] loading MNIST dataset...\")\n",
        "((trainX, _), (testX, _)) = mnist.load_data()\n",
        "# add a channel dimension to every image in the dataset, then scale\n",
        "# the pixel intensities to the range [0, 1]\n",
        "trainX = np.expand_dims(trainX, axis=-1)\n",
        "testX = np.expand_dims(testX, axis=-1)\n",
        "trainX = trainX.astype(\"float32\") / 255.0\n",
        "testX = testX.astype(\"float32\") / 255.0"
      ],
      "metadata": {
        "colab": {
          "base_uri": "https://localhost:8080/"
        },
        "id": "1hv3WNVrAMVJ",
        "outputId": "500bc429-d4b4-434f-caf9-bc3fb81d815e"
      },
      "execution_count": 4,
      "outputs": [
        {
          "output_type": "stream",
          "name": "stdout",
          "text": [
            "[INFO] loading MNIST dataset...\n",
            "Downloading data from https://storage.googleapis.com/tensorflow/tf-keras-datasets/mnist.npz\n",
            "11493376/11490434 [==============================] - 0s 0us/step\n",
            "11501568/11490434 [==============================] - 0s 0us/step\n"
          ]
        }
      ]
    },
    {
      "cell_type": "code",
      "source": [
        "#construct our convolutional autoencoder\n",
        "print(\"[INFO] building autoencoder...\")\n",
        "(encoder, decoder, autoencoder) = build(28, 28, 1)\n",
        "opt = Adam(lr=1e-3)\n",
        "autoencoder.compile(loss=\"mse\", optimizer=opt)\n"
      ],
      "metadata": {
        "colab": {
          "base_uri": "https://localhost:8080/"
        },
        "id": "gwAQGu32AS-3",
        "outputId": "561fdd3a-6058-4870-b5aa-3085854e354a"
      },
      "execution_count": 5,
      "outputs": [
        {
          "output_type": "stream",
          "name": "stdout",
          "text": [
            "[INFO] building autoencoder...\n"
          ]
        },
        {
          "output_type": "stream",
          "name": "stderr",
          "text": [
            "/usr/local/lib/python3.7/dist-packages/keras/optimizer_v2/adam.py:105: UserWarning: The `lr` argument is deprecated, use `learning_rate` instead.\n",
            "  super(Adam, self).__init__(name, **kwargs)\n"
          ]
        }
      ]
    },
    {
      "cell_type": "code",
      "source": [
        "autoencoder.summary()"
      ],
      "metadata": {
        "colab": {
          "base_uri": "https://localhost:8080/"
        },
        "id": "F4YLF670AdDM",
        "outputId": "65fb5758-ddf8-40e6-a47b-d57b8ae0d8ec"
      },
      "execution_count": 6,
      "outputs": [
        {
          "output_type": "stream",
          "name": "stdout",
          "text": [
            "Model: \"autoencoder\"\n",
            "_________________________________________________________________\n",
            " Layer (type)                Output Shape              Param #   \n",
            "=================================================================\n",
            " input_1 (InputLayer)        [(None, 28, 28, 1)]       0         \n",
            "                                                                 \n",
            " encoder (Functional)        (None, 16)                69392     \n",
            "                                                                 \n",
            " decoder (Functional)        (None, 28, 28, 1)         109377    \n",
            "                                                                 \n",
            "=================================================================\n",
            "Total params: 178,769\n",
            "Trainable params: 178,385\n",
            "Non-trainable params: 384\n",
            "_________________________________________________________________\n"
          ]
        }
      ]
    },
    {
      "cell_type": "code",
      "source": [
        "# train the convolutional autoencoder\n",
        "H = autoencoder.fit(trainX, trainX,validation_data=(testX, testX),epochs=EPOCHS,batch_size=BS)"
      ],
      "metadata": {
        "colab": {
          "base_uri": "https://localhost:8080/"
        },
        "id": "NEAD1wHZAilk",
        "outputId": "ae1d85be-ad6b-4139-c18b-5600e5a8ec27"
      },
      "execution_count": 7,
      "outputs": [
        {
          "output_type": "stream",
          "name": "stdout",
          "text": [
            "Epoch 1/25\n",
            "1875/1875 [==============================] - 20s 4ms/step - loss: 0.0185 - val_loss: 0.0107\n",
            "Epoch 2/25\n",
            "1875/1875 [==============================] - 8s 4ms/step - loss: 0.0104 - val_loss: 0.0096\n",
            "Epoch 3/25\n",
            "1875/1875 [==============================] - 8s 4ms/step - loss: 0.0094 - val_loss: 0.0096\n",
            "Epoch 4/25\n",
            "1875/1875 [==============================] - 8s 4ms/step - loss: 0.0089 - val_loss: 0.0083\n",
            "Epoch 5/25\n",
            "1875/1875 [==============================] - 8s 4ms/step - loss: 0.0084 - val_loss: 0.0081\n",
            "Epoch 6/25\n",
            "1875/1875 [==============================] - 18s 10ms/step - loss: 0.0081 - val_loss: 0.0090\n",
            "Epoch 7/25\n",
            "1875/1875 [==============================] - 11s 6ms/step - loss: 0.0079 - val_loss: 0.0080\n",
            "Epoch 8/25\n",
            "1875/1875 [==============================] - 10s 5ms/step - loss: 0.0077 - val_loss: 0.0078\n",
            "Epoch 9/25\n",
            "1875/1875 [==============================] - 8s 4ms/step - loss: 0.0076 - val_loss: 0.0076\n",
            "Epoch 10/25\n",
            "1875/1875 [==============================] - 9s 5ms/step - loss: 0.0074 - val_loss: 0.0075\n",
            "Epoch 11/25\n",
            "1875/1875 [==============================] - 8s 4ms/step - loss: 0.0073 - val_loss: 0.0074\n",
            "Epoch 12/25\n",
            "1875/1875 [==============================] - 8s 4ms/step - loss: 0.0072 - val_loss: 0.0073\n",
            "Epoch 13/25\n",
            "1875/1875 [==============================] - 9s 5ms/step - loss: 0.0071 - val_loss: 0.0071\n",
            "Epoch 14/25\n",
            "1875/1875 [==============================] - 8s 4ms/step - loss: 0.0070 - val_loss: 0.0071\n",
            "Epoch 15/25\n",
            "1875/1875 [==============================] - 11s 6ms/step - loss: 0.0070 - val_loss: 0.0072\n",
            "Epoch 16/25\n",
            "1875/1875 [==============================] - 8s 4ms/step - loss: 0.0069 - val_loss: 0.0071\n",
            "Epoch 17/25\n",
            "1875/1875 [==============================] - 9s 5ms/step - loss: 0.0068 - val_loss: 0.0070\n",
            "Epoch 18/25\n",
            "1875/1875 [==============================] - 9s 5ms/step - loss: 0.0068 - val_loss: 0.0071\n",
            "Epoch 19/25\n",
            "1875/1875 [==============================] - 8s 4ms/step - loss: 0.0068 - val_loss: 0.0069\n",
            "Epoch 20/25\n",
            "1875/1875 [==============================] - 11s 6ms/step - loss: 0.0067 - val_loss: 0.0070\n",
            "Epoch 21/25\n",
            "1875/1875 [==============================] - 8s 4ms/step - loss: 0.0067 - val_loss: 0.0069\n",
            "Epoch 22/25\n",
            "1875/1875 [==============================] - 9s 5ms/step - loss: 0.0066 - val_loss: 0.0068\n",
            "Epoch 23/25\n",
            "1875/1875 [==============================] - 8s 4ms/step - loss: 0.0066 - val_loss: 0.0068\n",
            "Epoch 24/25\n",
            "1875/1875 [==============================] - 8s 4ms/step - loss: 0.0065 - val_loss: 0.0068\n",
            "Epoch 25/25\n",
            "1875/1875 [==============================] - 9s 5ms/step - loss: 0.0065 - val_loss: 0.0069\n"
          ]
        }
      ]
    },
    {
      "cell_type": "code",
      "source": [
        "# construct a plot that plots and saves the training history\n",
        "N = np.arange(0, EPOCHS)\n",
        "plt.style.use(\"ggplot\")\n",
        "plt.figure()\n",
        "plt.plot(N, H.history[\"loss\"], label=\"train_loss\")\n",
        "plt.plot(N, H.history[\"val_loss\"], label=\"val_loss\")\n",
        "plt.title(\"Training Loss and Accuracy\")\n",
        "plt.xlabel(\"Epoch #\")\n",
        "plt.ylabel(\"Loss/Accuracy\")\n",
        "plt.legend(loc=\"lower left\")\n",
        "#plt.savefig(\"/content/loss.png\")"
      ],
      "metadata": {
        "colab": {
          "base_uri": "https://localhost:8080/",
          "height": 316
        },
        "id": "4-2LAYw1AqJe",
        "outputId": "0446f236-cf1c-456f-8750-0d21aa4f3325"
      },
      "execution_count": 10,
      "outputs": [
        {
          "output_type": "execute_result",
          "data": {
            "text/plain": [
              "<matplotlib.legend.Legend at 0x7f6aa663cf50>"
            ]
          },
          "metadata": {},
          "execution_count": 10
        },
        {
          "output_type": "display_data",
          "data": {
            "text/plain": [
              "<Figure size 432x288 with 1 Axes>"
            ],
            "image/png": "[encoded data removed]"
          },
          "metadata": {}
        }
      ]
    },
    {
      "cell_type": "code",
      "source": [
        "# use the convolutional autoencoder to make predictions on the\n",
        "# testing images, then initialize our list of output images\n",
        "print(\"[INFO] making predictions...\")\n",
        "decoded = autoencoder.predict(testX)\n",
        "outputs = None\n",
        "# loop over our number of output samples\n",
        "for i in range(0, 10):\n",
        "\t# grab the original image and reconstructed image\n",
        "\toriginal = (testX[i] * 255).astype(\"uint8\")\n",
        "\trecon = (decoded[i] * 255).astype(\"uint8\")\n",
        "\t# stack the original and reconstructed image side-by-side\n",
        "\toutput = np.hstack([original, recon])\n",
        "\t# if the outputs array is empty, initialize it as the current\n",
        "\t# side-by-side image display\n",
        "\tif outputs is None:\n",
        "\t\toutputs = output\n",
        "\t# otherwise, vertically stack the outputs\n",
        "\telse:\n",
        "\t\toutputs = np.vstack([outputs, output])\n",
        "# save the outputs image to disk\n",
        "cv2.imwrite(\"prediction.png\", outputs)"
      ],
      "metadata": {
        "colab": {
          "base_uri": "https://localhost:8080/"
        },
        "id": "TntJ1gQ8BZXK",
        "outputId": "cf725b8c-fc66-40ad-fc0e-f50ac0d5ae57"
      },
      "execution_count": 11,
      "outputs": [
        {
          "output_type": "stream",
          "name": "stdout",
          "text": [
            "[INFO] making predictions...\n"
          ]
        },
        {
          "output_type": "execute_result",
          "data": {
            "text/plain": [
              "True"
            ]
          },
          "metadata": {},
          "execution_count": 11
        }
      ]
    },
    {
      "cell_type": "code",
      "source": [],
      "metadata": {
        "id": "9THDAmUrCdNd"
      },
      "execution_count": null,
      "outputs": []
    }
  ]
}