{
  "nbformat": 4,
  "nbformat_minor": 0,
  "metadata": {
    "colab": {
      "name": "Untitled50.ipynb",
      "provenance": [],
      "collapsed_sections": [],
      "include_colab_link": true
    },
    "kernelspec": {
      "name": "python3",
      "display_name": "Python 3"
    },
    "accelerator": "GPU"
  },
  "cells": [
    {
      "cell_type": "markdown",
      "metadata": {
        "id": "view-in-github",
        "colab_type": "text"
      },
      "source": [
        "<a href=\"https://colab.research.google.com/github/mohanrajmit/Autoencoder/blob/master/autoencoder.ipynb\" target=\"_parent\"><img src=\"https://colab.research.google.com/assets/colab-badge.svg\" alt=\"Open In Colab\"/></a>"
      ]
    },
    {
      "cell_type": "code",
      "metadata": {
        "id": "FswDiQiAUhwU",
        "colab_type": "code",
        "colab": {
          "base_uri": "https://localhost:8080/",
          "height": 221
        },
        "outputId": "b482df10-7f59-4507-b048-3ef7e908054d"
      },
      "source": [
        "from keras.layers import Input, Dense\n",
        "from keras.models import Model\n",
        "\n",
        "# this is the size of our encoded representations\n",
        "encoding_dim = 32  # 32 floats -> compression of factor 24.5, assuming the input is 784 floats\n",
        "\n",
        "# this is our input placeholder\n",
        "input_img = Input(shape=(784,))\n",
        "# \"encoded\" is the encoded representation of the input\n",
        "encoded = Dense(encoding_dim, activation='relu')(input_img)\n",
        "# \"decoded\" is the lossy reconstruction of the input\n",
        "decoded = Dense(784, activation='sigmoid')(encoded)\n",
        "\n",
        "# this model maps an input to its reconstruction\n",
        "autoencoder = Model(input_img, decoded)"
      ],
      "execution_count": 1,
      "outputs": [
        {
          "output_type": "stream",
          "text": [
            "Using TensorFlow backend.\n"
          ],
          "name": "stderr"
        },
        {
          "output_type": "display_data",
          "data": {
            "text/html": [
              "<p style=\"color: red;\">\n",
              "The default version of TensorFlow in Colab will soon switch to TensorFlow 2.x.<br>\n",
              "We recommend you <a href=\"https://www.tensorflow.org/guide/migrate\" target=\"_blank\">upgrade</a> now \n",
              "or ensure your notebook will continue to use TensorFlow 1.x via the <code>%tensorflow_version 1.x</code> magic:\n",
              "<a href=\"https://colab.research.google.com/notebooks/tensorflow_version.ipynb\" target=\"_blank\">more info</a>.</p>\n"
            ],
            "text/plain": [
              "<IPython.core.display.HTML object>"
            ]
          },
          "metadata": {
            "tags": []
          }
        },
        {
          "output_type": "stream",
          "text": [
            "WARNING:tensorflow:From /usr/local/lib/python3.6/dist-packages/keras/backend/tensorflow_backend.py:66: The name tf.get_default_graph is deprecated. Please use tf.compat.v1.get_default_graph instead.\n",
            "\n",
            "WARNING:tensorflow:From /usr/local/lib/python3.6/dist-packages/keras/backend/tensorflow_backend.py:541: The name tf.placeholder is deprecated. Please use tf.compat.v1.placeholder instead.\n",
            "\n",
            "WARNING:tensorflow:From /usr/local/lib/python3.6/dist-packages/keras/backend/tensorflow_backend.py:4432: The name tf.random_uniform is deprecated. Please use tf.random.uniform instead.\n",
            "\n"
          ],
          "name": "stdout"
        }
      ]
    },
    {
      "cell_type": "code",
      "metadata": {
        "id": "WP9XVfZ1U4qs",
        "colab_type": "code",
        "colab": {
          "base_uri": "https://localhost:8080/",
          "height": 158
        },
        "outputId": "8710fa25-041e-498c-a23d-d0ca22cd1cd2"
      },
      "source": [
        "autoencoder.compile(optimizer='adadelta', loss='binary_crossentropy')"
      ],
      "execution_count": 4,
      "outputs": [
        {
          "output_type": "stream",
          "text": [
            "WARNING:tensorflow:From /usr/local/lib/python3.6/dist-packages/keras/optimizers.py:793: The name tf.train.Optimizer is deprecated. Please use tf.compat.v1.train.Optimizer instead.\n",
            "\n",
            "WARNING:tensorflow:From /usr/local/lib/python3.6/dist-packages/keras/backend/tensorflow_backend.py:3657: The name tf.log is deprecated. Please use tf.math.log instead.\n",
            "\n",
            "WARNING:tensorflow:From /usr/local/lib/python3.6/dist-packages/tensorflow_core/python/ops/nn_impl.py:183: where (from tensorflow.python.ops.array_ops) is deprecated and will be removed in a future version.\n",
            "Instructions for updating:\n",
            "Use tf.where in 2.0, which has the same broadcast rule as np.where\n"
          ],
          "name": "stdout"
        }
      ]
    },
    {
      "cell_type": "code",
      "metadata": {
        "id": "DZfX5j39U8ul",
        "colab_type": "code",
        "colab": {
          "base_uri": "https://localhost:8080/",
          "height": 51
        },
        "outputId": "5a98fb34-1c9b-47f1-b922-bfde1ca99b21"
      },
      "source": [
        "from keras.datasets import mnist\n",
        "import numpy as np\n",
        "(x_train, _), (x_test, _) = mnist.load_data()"
      ],
      "execution_count": 5,
      "outputs": [
        {
          "output_type": "stream",
          "text": [
            "Downloading data from https://s3.amazonaws.com/img-datasets/mnist.npz\n",
            "11493376/11490434 [==============================] - 2s 0us/step\n"
          ],
          "name": "stdout"
        }
      ]
    },
    {
      "cell_type": "code",
      "metadata": {
        "id": "NJubLOv1VCJA",
        "colab_type": "code",
        "colab": {
          "base_uri": "https://localhost:8080/",
          "height": 51
        },
        "outputId": "9dc912c8-f46c-4198-c615-6106368ff924"
      },
      "source": [
        "x_train = x_train.astype('float32') / 255.\n",
        "x_test = x_test.astype('float32') / 255.\n",
        "x_train = x_train.reshape((len(x_train), np.prod(x_train.shape[1:])))\n",
        "x_test = x_test.reshape((len(x_test), np.prod(x_test.shape[1:])))\n",
        "print(x_train.shape)\n",
        "print(x_test.shape)"
      ],
      "execution_count": 7,
      "outputs": [
        {
          "output_type": "stream",
          "text": [
            "(60000, 784)\n",
            "(10000, 784)\n"
          ],
          "name": "stdout"
        }
      ]
    },
    {
      "cell_type": "code",
      "metadata": {
        "id": "40-L5xPdVGhF",
        "colab_type": "code",
        "colab": {
          "base_uri": "https://localhost:8080/",
          "height": 1000
        },
        "outputId": "bb3ca092-b183-403f-e0f4-54d027fe2a05"
      },
      "source": [
        "autoencoder.fit(x_train, x_train,\n",
        "                epochs=50,\n",
        "                batch_size=256,\n",
        "                shuffle=True,\n",
        "                validation_data=(x_test, x_test))"
      ],
      "execution_count": 8,
      "outputs": [
        {
          "output_type": "stream",
          "text": [
            "WARNING:tensorflow:From /usr/local/lib/python3.6/dist-packages/keras/backend/tensorflow_backend.py:1033: The name tf.assign_add is deprecated. Please use tf.compat.v1.assign_add instead.\n",
            "\n",
            "WARNING:tensorflow:From /usr/local/lib/python3.6/dist-packages/keras/backend/tensorflow_backend.py:1020: The name tf.assign is deprecated. Please use tf.compat.v1.assign instead.\n",
            "\n",
            "WARNING:tensorflow:From /usr/local/lib/python3.6/dist-packages/keras/backend/tensorflow_backend.py:3005: The name tf.Session is deprecated. Please use tf.compat.v1.Session instead.\n",
            "\n",
            "Train on 60000 samples, validate on 10000 samples\n",
            "Epoch 1/50\n",
            "WARNING:tensorflow:From /usr/local/lib/python3.6/dist-packages/keras/backend/tensorflow_backend.py:190: The name tf.get_default_session is deprecated. Please use tf.compat.v1.get_default_session instead.\n",
            "\n",
            "WARNING:tensorflow:From /usr/local/lib/python3.6/dist-packages/keras/backend/tensorflow_backend.py:197: The name tf.ConfigProto is deprecated. Please use tf.compat.v1.ConfigProto instead.\n",
            "\n",
            "WARNING:tensorflow:From /usr/local/lib/python3.6/dist-packages/keras/backend/tensorflow_backend.py:207: The name tf.global_variables is deprecated. Please use tf.compat.v1.global_variables instead.\n",
            "\n",
            "WARNING:tensorflow:From /usr/local/lib/python3.6/dist-packages/keras/backend/tensorflow_backend.py:216: The name tf.is_variable_initialized is deprecated. Please use tf.compat.v1.is_variable_initialized instead.\n",
            "\n",
            "WARNING:tensorflow:From /usr/local/lib/python3.6/dist-packages/keras/backend/tensorflow_backend.py:223: The name tf.variables_initializer is deprecated. Please use tf.compat.v1.variables_initializer instead.\n",
            "\n",
            "60000/60000 [==============================] - 6s 94us/step - loss: 0.3535 - val_loss: 0.2701\n",
            "Epoch 2/50\n",
            "60000/60000 [==============================] - 1s 23us/step - loss: 0.2623 - val_loss: 0.2510\n",
            "Epoch 3/50\n",
            "60000/60000 [==============================] - 1s 22us/step - loss: 0.2419 - val_loss: 0.2302\n",
            "Epoch 4/50\n",
            "60000/60000 [==============================] - 1s 23us/step - loss: 0.2231 - val_loss: 0.2132\n",
            "Epoch 5/50\n",
            "60000/60000 [==============================] - 1s 23us/step - loss: 0.2081 - val_loss: 0.2000\n",
            "Epoch 6/50\n",
            "60000/60000 [==============================] - 1s 23us/step - loss: 0.1964 - val_loss: 0.1898\n",
            "Epoch 7/50\n",
            "60000/60000 [==============================] - 1s 23us/step - loss: 0.1873 - val_loss: 0.1818\n",
            "Epoch 8/50\n",
            "60000/60000 [==============================] - 1s 22us/step - loss: 0.1799 - val_loss: 0.1750\n",
            "Epoch 9/50\n",
            "60000/60000 [==============================] - 1s 23us/step - loss: 0.1736 - val_loss: 0.1693\n",
            "Epoch 10/50\n",
            "60000/60000 [==============================] - 1s 22us/step - loss: 0.1682 - val_loss: 0.1641\n",
            "Epoch 11/50\n",
            "60000/60000 [==============================] - 1s 23us/step - loss: 0.1633 - val_loss: 0.1595\n",
            "Epoch 12/50\n",
            "60000/60000 [==============================] - 1s 23us/step - loss: 0.1590 - val_loss: 0.1554\n",
            "Epoch 13/50\n",
            "60000/60000 [==============================] - 1s 23us/step - loss: 0.1550 - val_loss: 0.1517\n",
            "Epoch 14/50\n",
            "60000/60000 [==============================] - 1s 23us/step - loss: 0.1515 - val_loss: 0.1483\n",
            "Epoch 15/50\n",
            "60000/60000 [==============================] - 1s 22us/step - loss: 0.1482 - val_loss: 0.1452\n",
            "Epoch 16/50\n",
            "60000/60000 [==============================] - 1s 23us/step - loss: 0.1453 - val_loss: 0.1424\n",
            "Epoch 17/50\n",
            "60000/60000 [==============================] - 1s 23us/step - loss: 0.1426 - val_loss: 0.1399\n",
            "Epoch 18/50\n",
            "60000/60000 [==============================] - 1s 23us/step - loss: 0.1402 - val_loss: 0.1374\n",
            "Epoch 19/50\n",
            "60000/60000 [==============================] - 1s 22us/step - loss: 0.1379 - val_loss: 0.1353\n",
            "Epoch 20/50\n",
            "60000/60000 [==============================] - 1s 24us/step - loss: 0.1358 - val_loss: 0.1332\n",
            "Epoch 21/50\n",
            "60000/60000 [==============================] - 1s 24us/step - loss: 0.1338 - val_loss: 0.1313\n",
            "Epoch 22/50\n",
            "60000/60000 [==============================] - 1s 24us/step - loss: 0.1319 - val_loss: 0.1296\n",
            "Epoch 23/50\n",
            "60000/60000 [==============================] - 1s 24us/step - loss: 0.1301 - val_loss: 0.1277\n",
            "Epoch 24/50\n",
            "60000/60000 [==============================] - 1s 22us/step - loss: 0.1284 - val_loss: 0.1260\n",
            "Epoch 25/50\n",
            "60000/60000 [==============================] - 1s 23us/step - loss: 0.1268 - val_loss: 0.1244\n",
            "Epoch 26/50\n",
            "60000/60000 [==============================] - 1s 22us/step - loss: 0.1251 - val_loss: 0.1228\n",
            "Epoch 27/50\n",
            "60000/60000 [==============================] - 1s 23us/step - loss: 0.1236 - val_loss: 0.1213\n",
            "Epoch 28/50\n",
            "60000/60000 [==============================] - 1s 23us/step - loss: 0.1221 - val_loss: 0.1198\n",
            "Epoch 29/50\n",
            "60000/60000 [==============================] - 1s 23us/step - loss: 0.1207 - val_loss: 0.1184\n",
            "Epoch 30/50\n",
            "60000/60000 [==============================] - 1s 22us/step - loss: 0.1193 - val_loss: 0.1170\n",
            "Epoch 31/50\n",
            "60000/60000 [==============================] - 1s 23us/step - loss: 0.1180 - val_loss: 0.1157\n",
            "Epoch 32/50\n",
            "60000/60000 [==============================] - 1s 23us/step - loss: 0.1167 - val_loss: 0.1145\n",
            "Epoch 33/50\n",
            "60000/60000 [==============================] - 1s 22us/step - loss: 0.1156 - val_loss: 0.1133\n",
            "Epoch 34/50\n",
            "60000/60000 [==============================] - 1s 23us/step - loss: 0.1144 - val_loss: 0.1122\n",
            "Epoch 35/50\n",
            "60000/60000 [==============================] - 1s 23us/step - loss: 0.1133 - val_loss: 0.1111\n",
            "Epoch 36/50\n",
            "60000/60000 [==============================] - 1s 23us/step - loss: 0.1123 - val_loss: 0.1101\n",
            "Epoch 37/50\n",
            "60000/60000 [==============================] - 1s 23us/step - loss: 0.1114 - val_loss: 0.1092\n",
            "Epoch 38/50\n",
            "60000/60000 [==============================] - 1s 22us/step - loss: 0.1104 - val_loss: 0.1084\n",
            "Epoch 39/50\n",
            "60000/60000 [==============================] - 1s 22us/step - loss: 0.1096 - val_loss: 0.1075\n",
            "Epoch 40/50\n",
            "60000/60000 [==============================] - 1s 23us/step - loss: 0.1088 - val_loss: 0.1067\n",
            "Epoch 41/50\n",
            "60000/60000 [==============================] - 1s 22us/step - loss: 0.1080 - val_loss: 0.1060\n",
            "Epoch 42/50\n",
            "60000/60000 [==============================] - 1s 22us/step - loss: 0.1073 - val_loss: 0.1053\n",
            "Epoch 43/50\n",
            "60000/60000 [==============================] - 1s 23us/step - loss: 0.1067 - val_loss: 0.1047\n",
            "Epoch 44/50\n",
            "60000/60000 [==============================] - 1s 23us/step - loss: 0.1061 - val_loss: 0.1041\n",
            "Epoch 45/50\n",
            "60000/60000 [==============================] - 1s 22us/step - loss: 0.1055 - val_loss: 0.1036\n",
            "Epoch 46/50\n",
            "60000/60000 [==============================] - 1s 23us/step - loss: 0.1050 - val_loss: 0.1030\n",
            "Epoch 47/50\n",
            "60000/60000 [==============================] - 1s 22us/step - loss: 0.1045 - val_loss: 0.1025\n",
            "Epoch 48/50\n",
            "60000/60000 [==============================] - 1s 23us/step - loss: 0.1040 - val_loss: 0.1021\n",
            "Epoch 49/50\n",
            "60000/60000 [==============================] - 1s 23us/step - loss: 0.1036 - val_loss: 0.1017\n",
            "Epoch 50/50\n",
            "60000/60000 [==============================] - 1s 23us/step - loss: 0.1031 - val_loss: 0.1013\n"
          ],
          "name": "stdout"
        },
        {
          "output_type": "execute_result",
          "data": {
            "text/plain": [
              "<keras.callbacks.History at 0x7ff836944ba8>"
            ]
          },
          "metadata": {
            "tags": []
          },
          "execution_count": 8
        }
      ]
    },
    {
      "cell_type": "code",
      "metadata": {
        "id": "BDH8g8U-VLoe",
        "colab_type": "code",
        "colab": {}
      },
      "source": [
        "# encode and decode some digits\n",
        "# note that we take them from the *test* set\n",
        "#encoded_imgs = encoder.predict(x_test)\n",
        "decoded_imgs = autoencoder.predict(x_test)"
      ],
      "execution_count": 0,
      "outputs": []
    },
    {
      "cell_type": "code",
      "metadata": {
        "id": "b1P8outYVSJo",
        "colab_type": "code",
        "colab": {
          "base_uri": "https://localhost:8080/",
          "height": 268
        },
        "outputId": "0e308567-b2e9-405c-ea16-81fd7ca77222"
      },
      "source": [
        "# use Matplotlib (don't ask)\n",
        "import matplotlib.pyplot as plt\n",
        "\n",
        "n = 10  # how many digits we will display\n",
        "plt.figure(figsize=(20, 4))\n",
        "for i in range(n):\n",
        "    # display original\n",
        "    ax = plt.subplot(2, n, i + 1)\n",
        "    plt.imshow(x_test[i].reshape(28, 28))\n",
        "    plt.gray()\n",
        "    ax.get_xaxis().set_visible(False)\n",
        "    ax.get_yaxis().set_visible(False)\n",
        "\n",
        "    # display reconstruction\n",
        "    ax = plt.subplot(2, n, i + 1 + n)\n",
        "    plt.imshow(decoded_imgs[i].reshape(28, 28))\n",
        "    plt.gray()\n",
        "    ax.get_xaxis().set_visible(False)\n",
        "    ax.get_yaxis().set_visible(False)\n",
        "plt.show()"
      ],
      "execution_count": 10,
      "outputs": [
        {
          "output_type": "display_data",
          "data": {
            "image/png": "[encoded data removed]",
            "text/plain": [
              "<Figure size 1440x288 with 20 Axes>"
            ]
          },
          "metadata": {
            "tags": []
          }
        }
      ]
    }
  ]
}