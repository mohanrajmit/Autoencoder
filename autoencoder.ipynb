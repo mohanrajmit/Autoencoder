{
  "nbformat": 4,
  "nbformat_minor": 0,
  "metadata": {
    "colab": {
      "name": "Untitled50.ipynb",
      "provenance": [],
      "collapsed_sections": [],
      "include_colab_link": true
    },
    "kernelspec": {
      "name": "python3",
      "display_name": "Python 3"
    },
    "accelerator": "GPU"
  },
  "cells": [
    {
      "cell_type": "markdown",
      "metadata": {
        "id": "view-in-github",
        "colab_type": "text"
      },
      "source": [
        "<a href=\"https://colab.research.google.com/github/mohanrajmit/Autoencoder/blob/master/autoencoder.ipynb\" target=\"_parent\"><img src=\"https://colab.research.google.com/assets/colab-badge.svg\" alt=\"Open In Colab\"/></a>"
      ]
    },
    {
      "cell_type": "code",
      "metadata": {
        "id": "FswDiQiAUhwU",
        "colab_type": "code",
        "colab": {
          "base_uri": "https://localhost:8080/",
          "height": 221
        },
        "outputId": "b482df10-7f59-4507-b048-3ef7e908054d"
      },
      "source": [
        "from keras.layers import Input, Dense\n",
        "from keras.models import Model\n",
        "\n",
        "# this is the size of our encoded representations\n",
        "encoding_dim = 32  # 32 floats -> compression of factor 24.5, assuming the input is 784 floats\n",
        "\n",
        "# this is our input placeholder\n",
        "input_img = Input(shape=(784,))\n",
        "# \"encoded\" is the encoded representation of the input\n",
        "encoded = Dense(encoding_dim, activation='relu')(input_img)\n",
        "# \"decoded\" is the lossy reconstruction of the input\n",
        "decoded = Dense(784, activation='sigmoid')(encoded)\n",
        "\n",
        "# this model maps an input to its reconstruction\n",
        "autoencoder = Model(input_img, decoded)"
      ],
      "execution_count": 1,
      "outputs": [
        {
          "output_type": "stream",
          "text": [
            "Using TensorFlow backend.\n"
          ],
          "name": "stderr"
        },
        {
          "output_type": "display_data",
          "data": {
            "text/html": [
              "<p style=\"color: red;\">\n",
              "The default version of TensorFlow in Colab will soon switch to TensorFlow 2.x.<br>\n",
              "We recommend you <a href=\"https://www.tensorflow.org/guide/migrate\" target=\"_blank\">upgrade</a> now \n",
              "or ensure your notebook will continue to use TensorFlow 1.x via the <code>%tensorflow_version 1.x</code> magic:\n",
              "<a href=\"https://colab.research.google.com/notebooks/tensorflow_version.ipynb\" target=\"_blank\">more info</a>.</p>\n"
            ],
            "text/plain": [
              "<IPython.core.display.HTML object>"
            ]
          },
          "metadata": {
            "tags": []
          }
        },
        {
          "output_type": "stream",
          "text": [
            "WARNING:tensorflow:From /usr/local/lib/python3.6/dist-packages/keras/backend/tensorflow_backend.py:66: The name tf.get_default_graph is deprecated. Please use tf.compat.v1.get_default_graph instead.\n",
            "\n",
            "WARNING:tensorflow:From /usr/local/lib/python3.6/dist-packages/keras/backend/tensorflow_backend.py:541: The name tf.placeholder is deprecated. Please use tf.compat.v1.placeholder instead.\n",
            "\n",
            "WARNING:tensorflow:From /usr/local/lib/python3.6/dist-packages/keras/backend/tensorflow_backend.py:4432: The name tf.random_uniform is deprecated. Please use tf.random.uniform instead.\n",
            "\n"
          ],
          "name": "stdout"
        }
      ]
    },
    {
      "cell_type": "code",
      "metadata": {
        "id": "WP9XVfZ1U4qs",
        "colab_type": "code",
        "colab": {
          "base_uri": "https://localhost:8080/",
          "height": 158
        },
        "outputId": "8710fa25-041e-498c-a23d-d0ca22cd1cd2"
      },
      "source": [
        "autoencoder.compile(optimizer='adadelta', loss='binary_crossentropy')"
      ],
      "execution_count": 4,
      "outputs": [
        {
          "output_type": "stream",
          "text": [
            "WARNING:tensorflow:From /usr/local/lib/python3.6/dist-packages/keras/optimizers.py:793: The name tf.train.Optimizer is deprecated. Please use tf.compat.v1.train.Optimizer instead.\n",
            "\n",
            "WARNING:tensorflow:From /usr/local/lib/python3.6/dist-packages/keras/backend/tensorflow_backend.py:3657: The name tf.log is deprecated. Please use tf.math.log instead.\n",
            "\n",
            "WARNING:tensorflow:From /usr/local/lib/python3.6/dist-packages/tensorflow_core/python/ops/nn_impl.py:183: where (from tensorflow.python.ops.array_ops) is deprecated and will be removed in a future version.\n",
            "Instructions for updating:\n",
            "Use tf.where in 2.0, which has the same broadcast rule as np.where\n"
          ],
          "name": "stdout"
        }
      ]
    },
    {
      "cell_type": "code",
      "metadata": {
        "id": "DZfX5j39U8ul",
        "colab_type": "code",
        "colab": {
          "base_uri": "https://localhost:8080/",
          "height": 51
        },
        "outputId": "5a98fb34-1c9b-47f1-b922-bfde1ca99b21"
      },
      "source": [
        "from keras.datasets import mnist\n",
        "import numpy as np\n",
        "(x_train, _), (x_test, _) = mnist.load_data()"
      ],
      "execution_count": 5,
      "outputs": [
        {
          "output_type": "stream",
          "text": [
            "Downloading data from https://s3.amazonaws.com/img-datasets/mnist.npz\n",
            "11493376/11490434 [==============================] - 2s 0us/step\n"
          ],
          "name": "stdout"
        }
      ]
    },
    {
      "cell_type": "code",
      "metadata": {
        "id": "NJubLOv1VCJA",
        "colab_type": "code",
        "colab": {
          "base_uri": "https://localhost:8080/",
          "height": 51
        },
        "outputId": "9dc912c8-f46c-4198-c615-6106368ff924"
      },
      "source": [
        "x_train = x_train.astype('float32') / 255.\n",
        "x_test = x_test.astype('float32') / 255.\n",
        "x_train = x_train.reshape((len(x_train), np.prod(x_train.shape[1:])))\n",
        "x_test = x_test.reshape((len(x_test), np.prod(x_test.shape[1:])))\n",
        "print(x_train.shape)\n",
        "print(x_test.shape)"
      ],
      "execution_count": 7,
      "outputs": [
        {
          "output_type": "stream",
          "text": [
            "(60000, 784)\n",
            "(10000, 784)\n"
          ],
          "name": "stdout"
        }
      ]
    },
    {
      "cell_type": "code",
      "metadata": {
        "id": "40-L5xPdVGhF",
        "colab_type": "code",
        "colab": {
          "base_uri": "https://localhost:8080/",
          "height": 1000
        },
        "outputId": "bb3ca092-b183-403f-e0f4-54d027fe2a05"
      },
      "source": [
        "autoencoder.fit(x_train, x_train,\n",
        "                epochs=50,\n",
        "                batch_size=256,\n",
        "                shuffle=True,\n",
        "                validation_data=(x_test, x_test))"
      ],
      "execution_count": 8,
      "outputs": [
        {
          "output_type": "stream",
          "text": [
            "WARNING:tensorflow:From /usr/local/lib/python3.6/dist-packages/keras/backend/tensorflow_backend.py:1033: The name tf.assign_add is deprecated. Please use tf.compat.v1.assign_add instead.\n",
            "\n",
            "WARNING:tensorflow:From /usr/local/lib/python3.6/dist-packages/keras/backend/tensorflow_backend.py:1020: The name tf.assign is deprecated. Please use tf.compat.v1.assign instead.\n",
            "\n",
            "WARNING:tensorflow:From /usr/local/lib/python3.6/dist-packages/keras/backend/tensorflow_backend.py:3005: The name tf.Session is deprecated. Please use tf.compat.v1.Session instead.\n",
            "\n",
            "Train on 60000 samples, validate on 10000 samples\n",
            "Epoch 1/50\n",
            "WARNING:tensorflow:From /usr/local/lib/python3.6/dist-packages/keras/backend/tensorflow_backend.py:190: The name tf.get_default_session is deprecated. Please use tf.compat.v1.get_default_session instead.\n",
            "\n",
            "WARNING:tensorflow:From /usr/local/lib/python3.6/dist-packages/keras/backend/tensorflow_backend.py:197: The name tf.ConfigProto is deprecated. Please use tf.compat.v1.ConfigProto instead.\n",
            "\n",
            "WARNING:tensorflow:From /usr/local/lib/python3.6/dist-packages/keras/backend/tensorflow_backend.py:207: The name tf.global_variables is deprecated. Please use tf.compat.v1.global_variables instead.\n",
            "\n",
            "WARNING:tensorflow:From /usr/local/lib/python3.6/dist-packages/keras/backend/tensorflow_backend.py:216: The name tf.is_variable_initialized is deprecated. Please use tf.compat.v1.is_variable_initialized instead.\n",
            "\n",
            "WARNING:tensorflow:From /usr/local/lib/python3.6/dist-packages/keras/backend/tensorflow_backend.py:223: The name tf.variables_initializer is deprecated. Please use tf.compat.v1.variables_initializer instead.\n",
            "\n",
            "60000/60000 [==============================] - 6s 94us/step - loss: 0.3535 - val_loss: 0.2701\n",
            "Epoch 2/50\n",
            "60000/60000 [==============================] - 1s 23us/step - loss: 0.2623 - val_loss: 0.2510\n",
            "Epoch 3/50\n",
            "60000/60000 [==============================] - 1s 22us/step - loss: 0.2419 - val_loss: 0.2302\n",
            "Epoch 4/50\n",
            "60000/60000 [==============================] - 1s 23us/step - loss: 0.2231 - val_loss: 0.2132\n",
            "Epoch 5/50\n",
            "60000/60000 [==============================] - 1s 23us/step - loss: 0.2081 - val_loss: 0.2000\n",
            "Epoch 6/50\n",
            "60000/60000 [==============================] - 1s 23us/step - loss: 0.1964 - val_loss: 0.1898\n",
            "Epoch 7/50\n",
            "60000/60000 [==============================] - 1s 23us/step - loss: 0.1873 - val_loss: 0.1818\n",
            "Epoch 8/50\n",
            "60000/60000 [==============================] - 1s 22us/step - loss: 0.1799 - val_loss: 0.1750\n",
            "Epoch 9/50\n",
            "60000/60000 [==============================] - 1s 23us/step - loss: 0.1736 - val_loss: 0.1693\n",
            "Epoch 10/50\n",
            "60000/60000 [==============================] - 1s 22us/step - loss: 0.1682 - val_loss: 0.1641\n",
            "Epoch 11/50\n",
            "60000/60000 [==============================] - 1s 23us/step - loss: 0.1633 - val_loss: 0.1595\n",
            "Epoch 12/50\n",
            "60000/60000 [==============================] - 1s 23us/step - loss: 0.1590 - val_loss: 0.1554\n",
            "Epoch 13/50\n",
            "60000/60000 [==============================] - 1s 23us/step - loss: 0.1550 - val_loss: 0.1517\n",
            "Epoch 14/50\n",
            "60000/60000 [==============================] - 1s 23us/step - loss: 0.1515 - val_loss: 0.1483\n",
            "Epoch 15/50\n",
            "60000/60000 [==============================] - 1s 22us/step - loss: 0.1482 - val_loss: 0.1452\n",
            "Epoch 16/50\n",
            "60000/60000 [==============================] - 1s 23us/step - loss: 0.1453 - val_loss: 0.1424\n",
            "Epoch 17/50\n",
            "60000/60000 [==============================] - 1s 23us/step - loss: 0.1426 - val_loss: 0.1399\n",
            "Epoch 18/50\n",
            "60000/60000 [==============================] - 1s 23us/step - loss: 0.1402 - val_loss: 0.1374\n",
            "Epoch 19/50\n",
            "60000/60000 [==============================] - 1s 22us/step - loss: 0.1379 - val_loss: 0.1353\n",
            "Epoch 20/50\n",
            "60000/60000 [==============================] - 1s 24us/step - loss: 0.1358 - val_loss: 0.1332\n",
            "Epoch 21/50\n",
            "60000/60000 [==============================] - 1s 24us/step - loss: 0.1338 - val_loss: 0.1313\n",
            "Epoch 22/50\n",
            "60000/60000 [==============================] - 1s 24us/step - loss: 0.1319 - val_loss: 0.1296\n",
            "Epoch 23/50\n",
            "60000/60000 [==============================] - 1s 24us/step - loss: 0.1301 - val_loss: 0.1277\n",
            "Epoch 24/50\n",
            "60000/60000 [==============================] - 1s 22us/step - loss: 0.1284 - val_loss: 0.1260\n",
            "Epoch 25/50\n",
            "60000/60000 [==============================] - 1s 23us/step - loss: 0.1268 - val_loss: 0.1244\n",
            "Epoch 26/50\n",
            "60000/60000 [==============================] - 1s 22us/step - loss: 0.1251 - val_loss: 0.1228\n",
            "Epoch 27/50\n",
            "60000/60000 [==============================] - 1s 23us/step - loss: 0.1236 - val_loss: 0.1213\n",
            "Epoch 28/50\n",
            "60000/60000 [==============================] - 1s 23us/step - loss: 0.1221 - val_loss: 0.1198\n",
            "Epoch 29/50\n",
            "60000/60000 [==============================] - 1s 23us/step - loss: 0.1207 - val_loss: 0.1184\n",
            "Epoch 30/50\n",
            "60000/60000 [==============================] - 1s 22us/step - loss: 0.1193 - val_loss: 0.1170\n",
            "Epoch 31/50\n",
            "60000/60000 [==============================] - 1s 23us/step - loss: 0.1180 - val_loss: 0.1157\n",
            "Epoch 32/50\n",
            "60000/60000 [==============================] - 1s 23us/step - loss: 0.1167 - val_loss: 0.1145\n",
            "Epoch 33/50\n",
            "60000/60000 [==============================] - 1s 22us/step - loss: 0.1156 - val_loss: 0.1133\n",
            "Epoch 34/50\n",
            "60000/60000 [==============================] - 1s 23us/step - loss: 0.1144 - val_loss: 0.1122\n",
            "Epoch 35/50\n",
            "60000/60000 [==============================] - 1s 23us/step - loss: 0.1133 - val_loss: 0.1111\n",
            "Epoch 36/50\n",
            "60000/60000 [==============================] - 1s 23us/step - loss: 0.1123 - val_loss: 0.1101\n",
            "Epoch 37/50\n",
            "60000/60000 [==============================] - 1s 23us/step - loss: 0.1114 - val_loss: 0.1092\n",
            "Epoch 38/50\n",
            "60000/60000 [==============================] - 1s 22us/step - loss: 0.1104 - val_loss: 0.1084\n",
            "Epoch 39/50\n",
            "60000/60000 [==============================] - 1s 22us/step - loss: 0.1096 - val_loss: 0.1075\n",
            "Epoch 40/50\n",
            "60000/60000 [==============================] - 1s 23us/step - loss: 0.1088 - val_loss: 0.1067\n",
            "Epoch 41/50\n",
            "60000/60000 [==============================] - 1s 22us/step - loss: 0.1080 - val_loss: 0.1060\n",
            "Epoch 42/50\n",
            "60000/60000 [==============================] - 1s 22us/step - loss: 0.1073 - val_loss: 0.1053\n",
            "Epoch 43/50\n",
            "60000/60000 [==============================] - 1s 23us/step - loss: 0.1067 - val_loss: 0.1047\n",
            "Epoch 44/50\n",
            "60000/60000 [==============================] - 1s 23us/step - loss: 0.1061 - val_loss: 0.1041\n",
            "Epoch 45/50\n",
            "60000/60000 [==============================] - 1s 22us/step - loss: 0.1055 - val_loss: 0.1036\n",
            "Epoch 46/50\n",
            "60000/60000 [==============================] - 1s 23us/step - loss: 0.1050 - val_loss: 0.1030\n",
            "Epoch 47/50\n",
            "60000/60000 [==============================] - 1s 22us/step - loss: 0.1045 - val_loss: 0.1025\n",
            "Epoch 48/50\n",
            "60000/60000 [==============================] - 1s 23us/step - loss: 0.1040 - val_loss: 0.1021\n",
            "Epoch 49/50\n",
            "60000/60000 [==============================] - 1s 23us/step - loss: 0.1036 - val_loss: 0.1017\n",
            "Epoch 50/50\n",
            "60000/60000 [==============================] - 1s 23us/step - loss: 0.1031 - val_loss: 0.1013\n"
          ],
          "name": "stdout"
        },
        {
          "output_type": "execute_result",
          "data": {
            "text/plain": [
              "<keras.callbacks.History at 0x7ff836944ba8>"
            ]
          },
          "metadata": {
            "tags": []
          },
          "execution_count": 8
        }
      ]
    },
    {
      "cell_type": "code",
      "metadata": {
        "id": "BDH8g8U-VLoe",
        "colab_type": "code",
        "colab": {}
      },
      "source": [
        "# encode and decode some digits\n",
        "# note that we take them from the *test* set\n",
        "#encoded_imgs = encoder.predict(x_test)\n",
        "decoded_imgs = autoencoder.predict(x_test)"
      ],
      "execution_count": 0,
      "outputs": []
    },
    {
      "cell_type": "code",
      "metadata": {
        "id": "b1P8outYVSJo",
        "colab_type": "code",
        "colab": {
          "base_uri": "https://localhost:8080/",
          "height": 268
        },
        "outputId": "0e308567-b2e9-405c-ea16-81fd7ca77222"
      },
      "source": [
        "# use Matplotlib (don't ask)\n",
        "import matplotlib.pyplot as plt\n",
        "\n",
        "n = 10  # how many digits we will display\n",
        "plt.figure(figsize=(20, 4))\n",
        "for i in range(n):\n",
        "    # display original\n",
        "    ax = plt.subplot(2, n, i + 1)\n",
        "    plt.imshow(x_test[i].reshape(28, 28))\n",
        "    plt.gray()\n",
        "    ax.get_xaxis().set_visible(False)\n",
        "    ax.get_yaxis().set_visible(False)\n",
        "\n",
        "    # display reconstruction\n",
        "    ax = plt.subplot(2, n, i + 1 + n)\n",
        "    plt.imshow(decoded_imgs[i].reshape(28, 28))\n",
        "    plt.gray()\n",
        "    ax.get_xaxis().set_visible(False)\n",
        "    ax.get_yaxis().set_visible(False)\n",
        "plt.show()"
      ],
      "execution_count": 10,
      "outputs": [
        {
          "output_type": "display_data",
          "data": {
            "image/png": "[encoded data removed]",
            "text/plain": [
              "<Figure size 1440x288 with 20 Axes>"
            ]
          },
          "metadata": {
            "tags": []
          }
        }
      ]
    },
    {
      "cell_type": "markdown",
      "metadata": {
        "id": "X-3U25QyXSmF",
        "colab_type": "text"
      },
      "source": [
        "Deep autoencoder\n"
      ]
    },
    {
      "cell_type": "code",
      "metadata": {
        "id": "w1raRjzWXRnH",
        "colab_type": "code",
        "colab": {}
      },
      "source": [
        "input_img = Input(shape=(784,))\n",
        "encoded = Dense(128, activation='relu')(input_img)\n",
        "encoded = Dense(64, activation='relu')(encoded)\n",
        "encoded = Dense(32, activation='relu')(encoded)\n",
        "\n",
        "decoded = Dense(64, activation='relu')(encoded)\n",
        "decoded = Dense(128, activation='relu')(decoded)\n",
        "decoded = Dense(784, activation='sigmoid')(decoded)"
      ],
      "execution_count": 0,
      "outputs": []
    },
    {
      "cell_type": "code",
      "metadata": {
        "id": "G-YK50YMXeC_",
        "colab_type": "code",
        "colab": {
          "base_uri": "https://localhost:8080/",
          "height": 1000
        },
        "outputId": "ea58ae94-47e1-4afa-fa73-bb8e85279e7e"
      },
      "source": [
        "autoencoder = Model(input_img, decoded)\n",
        "autoencoder.compile(optimizer='adadelta', loss='binary_crossentropy')\n",
        "\n",
        "autoencoder.fit(x_train, x_train,\n",
        "                epochs=100,\n",
        "                batch_size=256,\n",
        "                shuffle=True,\n",
        "                validation_data=(x_test, x_test))"
      ],
      "execution_count": 12,
      "outputs": [
        {
          "output_type": "stream",
          "text": [
            "Train on 60000 samples, validate on 10000 samples\n",
            "Epoch 1/100\n",
            "60000/60000 [==============================] - 2s 40us/step - loss: 0.3453 - val_loss: 0.2642\n",
            "Epoch 2/100\n",
            "60000/60000 [==============================] - 2s 33us/step - loss: 0.2585 - val_loss: 0.2520\n",
            "Epoch 3/100\n",
            "60000/60000 [==============================] - 2s 33us/step - loss: 0.2430 - val_loss: 0.2342\n",
            "Epoch 4/100\n",
            "60000/60000 [==============================] - 2s 33us/step - loss: 0.2254 - val_loss: 0.2155\n",
            "Epoch 5/100\n",
            "60000/60000 [==============================] - 2s 33us/step - loss: 0.2111 - val_loss: 0.2037\n",
            "Epoch 6/100\n",
            "60000/60000 [==============================] - 2s 33us/step - loss: 0.2002 - val_loss: 0.1913\n",
            "Epoch 7/100\n",
            "60000/60000 [==============================] - 2s 33us/step - loss: 0.1877 - val_loss: 0.1826\n",
            "Epoch 8/100\n",
            "60000/60000 [==============================] - 2s 33us/step - loss: 0.1801 - val_loss: 0.1762\n",
            "Epoch 9/100\n",
            "60000/60000 [==============================] - 2s 33us/step - loss: 0.1749 - val_loss: 0.1731\n",
            "Epoch 10/100\n",
            "60000/60000 [==============================] - 2s 33us/step - loss: 0.1702 - val_loss: 0.1670\n",
            "Epoch 11/100\n",
            "60000/60000 [==============================] - 2s 33us/step - loss: 0.1654 - val_loss: 0.1615\n",
            "Epoch 12/100\n",
            "60000/60000 [==============================] - 2s 33us/step - loss: 0.1611 - val_loss: 0.1576\n",
            "Epoch 13/100\n",
            "60000/60000 [==============================] - 2s 33us/step - loss: 0.1576 - val_loss: 0.1566\n",
            "Epoch 14/100\n",
            "60000/60000 [==============================] - 2s 34us/step - loss: 0.1547 - val_loss: 0.1516\n",
            "Epoch 15/100\n",
            "60000/60000 [==============================] - 2s 33us/step - loss: 0.1516 - val_loss: 0.1517\n",
            "Epoch 16/100\n",
            "60000/60000 [==============================] - 2s 33us/step - loss: 0.1496 - val_loss: 0.1474\n",
            "Epoch 17/100\n",
            "60000/60000 [==============================] - 2s 34us/step - loss: 0.1476 - val_loss: 0.1448\n",
            "Epoch 18/100\n",
            "60000/60000 [==============================] - 2s 33us/step - loss: 0.1455 - val_loss: 0.1432\n",
            "Epoch 19/100\n",
            "60000/60000 [==============================] - 2s 33us/step - loss: 0.1435 - val_loss: 0.1409\n",
            "Epoch 20/100\n",
            "60000/60000 [==============================] - 2s 33us/step - loss: 0.1419 - val_loss: 0.1386\n",
            "Epoch 21/100\n",
            "60000/60000 [==============================] - 2s 33us/step - loss: 0.1404 - val_loss: 0.1376\n",
            "Epoch 22/100\n",
            "60000/60000 [==============================] - 2s 33us/step - loss: 0.1389 - val_loss: 0.1380\n",
            "Epoch 23/100\n",
            "60000/60000 [==============================] - 2s 33us/step - loss: 0.1377 - val_loss: 0.1346\n",
            "Epoch 24/100\n",
            "60000/60000 [==============================] - 2s 33us/step - loss: 0.1364 - val_loss: 0.1344\n",
            "Epoch 25/100\n",
            "60000/60000 [==============================] - 2s 33us/step - loss: 0.1354 - val_loss: 0.1348\n",
            "Epoch 26/100\n",
            "60000/60000 [==============================] - 2s 33us/step - loss: 0.1342 - val_loss: 0.1329\n",
            "Epoch 27/100\n",
            "60000/60000 [==============================] - 2s 33us/step - loss: 0.1332 - val_loss: 0.1307\n",
            "Epoch 28/100\n",
            "60000/60000 [==============================] - 2s 33us/step - loss: 0.1321 - val_loss: 0.1309\n",
            "Epoch 29/100\n",
            "60000/60000 [==============================] - 2s 33us/step - loss: 0.1310 - val_loss: 0.1304\n",
            "Epoch 30/100\n",
            "60000/60000 [==============================] - 2s 33us/step - loss: 0.1300 - val_loss: 0.1276\n",
            "Epoch 31/100\n",
            "60000/60000 [==============================] - 2s 33us/step - loss: 0.1286 - val_loss: 0.1258\n",
            "Epoch 32/100\n",
            "60000/60000 [==============================] - 2s 33us/step - loss: 0.1274 - val_loss: 0.1257\n",
            "Epoch 33/100\n",
            "60000/60000 [==============================] - 2s 33us/step - loss: 0.1264 - val_loss: 0.1261\n",
            "Epoch 34/100\n",
            "60000/60000 [==============================] - 2s 33us/step - loss: 0.1256 - val_loss: 0.1240\n",
            "Epoch 35/100\n",
            "60000/60000 [==============================] - 2s 33us/step - loss: 0.1245 - val_loss: 0.1224\n",
            "Epoch 36/100\n",
            "60000/60000 [==============================] - 2s 33us/step - loss: 0.1239 - val_loss: 0.1224\n",
            "Epoch 37/100\n",
            "60000/60000 [==============================] - 2s 33us/step - loss: 0.1231 - val_loss: 0.1208\n",
            "Epoch 38/100\n",
            "60000/60000 [==============================] - 2s 33us/step - loss: 0.1224 - val_loss: 0.1206\n",
            "Epoch 39/100\n",
            "60000/60000 [==============================] - 2s 33us/step - loss: 0.1218 - val_loss: 0.1221\n",
            "Epoch 40/100\n",
            "60000/60000 [==============================] - 2s 32us/step - loss: 0.1211 - val_loss: 0.1201\n",
            "Epoch 41/100\n",
            "60000/60000 [==============================] - 2s 34us/step - loss: 0.1206 - val_loss: 0.1179\n",
            "Epoch 42/100\n",
            "60000/60000 [==============================] - 2s 33us/step - loss: 0.1199 - val_loss: 0.1195\n",
            "Epoch 43/100\n",
            "60000/60000 [==============================] - 2s 33us/step - loss: 0.1193 - val_loss: 0.1184\n",
            "Epoch 44/100\n",
            "60000/60000 [==============================] - 2s 33us/step - loss: 0.1190 - val_loss: 0.1174\n",
            "Epoch 45/100\n",
            "60000/60000 [==============================] - 2s 33us/step - loss: 0.1184 - val_loss: 0.1182\n",
            "Epoch 46/100\n",
            "60000/60000 [==============================] - 2s 33us/step - loss: 0.1178 - val_loss: 0.1169\n",
            "Epoch 47/100\n",
            "60000/60000 [==============================] - 2s 33us/step - loss: 0.1174 - val_loss: 0.1174\n",
            "Epoch 48/100\n",
            "60000/60000 [==============================] - 2s 33us/step - loss: 0.1168 - val_loss: 0.1149\n",
            "Epoch 49/100\n",
            "60000/60000 [==============================] - 2s 33us/step - loss: 0.1162 - val_loss: 0.1152\n",
            "Epoch 50/100\n",
            "60000/60000 [==============================] - 2s 33us/step - loss: 0.1158 - val_loss: 0.1146\n",
            "Epoch 51/100\n",
            "60000/60000 [==============================] - 2s 33us/step - loss: 0.1153 - val_loss: 0.1152\n",
            "Epoch 52/100\n",
            "60000/60000 [==============================] - 2s 33us/step - loss: 0.1149 - val_loss: 0.1140\n",
            "Epoch 53/100\n",
            "60000/60000 [==============================] - 2s 33us/step - loss: 0.1142 - val_loss: 0.1126\n",
            "Epoch 54/100\n",
            "60000/60000 [==============================] - 2s 33us/step - loss: 0.1137 - val_loss: 0.1121\n",
            "Epoch 55/100\n",
            "60000/60000 [==============================] - 2s 33us/step - loss: 0.1134 - val_loss: 0.1139\n",
            "Epoch 56/100\n",
            "60000/60000 [==============================] - 2s 33us/step - loss: 0.1130 - val_loss: 0.1131\n",
            "Epoch 57/100\n",
            "60000/60000 [==============================] - 2s 33us/step - loss: 0.1125 - val_loss: 0.1108\n",
            "Epoch 58/100\n",
            "60000/60000 [==============================] - 2s 33us/step - loss: 0.1121 - val_loss: 0.1110\n",
            "Epoch 59/100\n",
            "60000/60000 [==============================] - 2s 33us/step - loss: 0.1116 - val_loss: 0.1097\n",
            "Epoch 60/100\n",
            "60000/60000 [==============================] - 2s 33us/step - loss: 0.1113 - val_loss: 0.1117\n",
            "Epoch 61/100\n",
            "60000/60000 [==============================] - 2s 33us/step - loss: 0.1109 - val_loss: 0.1103\n",
            "Epoch 62/100\n",
            "60000/60000 [==============================] - 2s 33us/step - loss: 0.1105 - val_loss: 0.1079\n",
            "Epoch 63/100\n",
            "60000/60000 [==============================] - 2s 33us/step - loss: 0.1101 - val_loss: 0.1086\n",
            "Epoch 64/100\n",
            "60000/60000 [==============================] - 2s 33us/step - loss: 0.1098 - val_loss: 0.1070\n",
            "Epoch 65/100\n",
            "60000/60000 [==============================] - 2s 33us/step - loss: 0.1095 - val_loss: 0.1093\n",
            "Epoch 66/100\n",
            "60000/60000 [==============================] - 2s 33us/step - loss: 0.1092 - val_loss: 0.1099\n",
            "Epoch 67/100\n",
            "60000/60000 [==============================] - 2s 33us/step - loss: 0.1089 - val_loss: 0.1056\n",
            "Epoch 68/100\n",
            "60000/60000 [==============================] - 2s 33us/step - loss: 0.1086 - val_loss: 0.1067\n",
            "Epoch 69/100\n",
            "60000/60000 [==============================] - 2s 33us/step - loss: 0.1082 - val_loss: 0.1081\n",
            "Epoch 70/100\n",
            "60000/60000 [==============================] - 2s 33us/step - loss: 0.1080 - val_loss: 0.1065\n",
            "Epoch 71/100\n",
            "60000/60000 [==============================] - 2s 33us/step - loss: 0.1078 - val_loss: 0.1051\n",
            "Epoch 72/100\n",
            "60000/60000 [==============================] - 2s 33us/step - loss: 0.1075 - val_loss: 0.1077\n",
            "Epoch 73/100\n",
            "60000/60000 [==============================] - 2s 33us/step - loss: 0.1071 - val_loss: 0.1073\n",
            "Epoch 74/100\n",
            "60000/60000 [==============================] - 2s 33us/step - loss: 0.1068 - val_loss: 0.1053\n",
            "Epoch 75/100\n",
            "60000/60000 [==============================] - 2s 33us/step - loss: 0.1066 - val_loss: 0.1044\n",
            "Epoch 76/100\n",
            "60000/60000 [==============================] - 2s 33us/step - loss: 0.1064 - val_loss: 0.1037\n",
            "Epoch 77/100\n",
            "60000/60000 [==============================] - 2s 33us/step - loss: 0.1061 - val_loss: 0.1039\n",
            "Epoch 78/100\n",
            "60000/60000 [==============================] - 2s 33us/step - loss: 0.1059 - val_loss: 0.1051\n",
            "Epoch 79/100\n",
            "60000/60000 [==============================] - 2s 33us/step - loss: 0.1058 - val_loss: 0.1038\n",
            "Epoch 80/100\n",
            "60000/60000 [==============================] - 2s 33us/step - loss: 0.1055 - val_loss: 0.1055\n",
            "Epoch 81/100\n",
            "60000/60000 [==============================] - 2s 33us/step - loss: 0.1053 - val_loss: 0.1035\n",
            "Epoch 82/100\n",
            "60000/60000 [==============================] - 2s 34us/step - loss: 0.1050 - val_loss: 0.1031\n",
            "Epoch 83/100\n",
            "60000/60000 [==============================] - 2s 33us/step - loss: 0.1048 - val_loss: 0.1036\n",
            "Epoch 84/100\n",
            "60000/60000 [==============================] - 2s 33us/step - loss: 0.1047 - val_loss: 0.1025\n",
            "Epoch 85/100\n",
            "60000/60000 [==============================] - 2s 33us/step - loss: 0.1044 - val_loss: 0.1038\n",
            "Epoch 86/100\n",
            "60000/60000 [==============================] - 2s 33us/step - loss: 0.1041 - val_loss: 0.1020\n",
            "Epoch 87/100\n",
            "60000/60000 [==============================] - 2s 33us/step - loss: 0.1041 - val_loss: 0.1034\n",
            "Epoch 88/100\n",
            "60000/60000 [==============================] - 2s 33us/step - loss: 0.1038 - val_loss: 0.1027\n",
            "Epoch 89/100\n",
            "60000/60000 [==============================] - 2s 33us/step - loss: 0.1037 - val_loss: 0.1045\n",
            "Epoch 90/100\n",
            "60000/60000 [==============================] - 2s 33us/step - loss: 0.1036 - val_loss: 0.1022\n",
            "Epoch 91/100\n",
            "60000/60000 [==============================] - 2s 33us/step - loss: 0.1033 - val_loss: 0.1018\n",
            "Epoch 92/100\n",
            "60000/60000 [==============================] - 2s 33us/step - loss: 0.1031 - val_loss: 0.1023\n",
            "Epoch 93/100\n",
            "60000/60000 [==============================] - 2s 33us/step - loss: 0.1029 - val_loss: 0.1015\n",
            "Epoch 94/100\n",
            "60000/60000 [==============================] - 2s 32us/step - loss: 0.1029 - val_loss: 0.1024\n",
            "Epoch 95/100\n",
            "60000/60000 [==============================] - 2s 33us/step - loss: 0.1026 - val_loss: 0.1034\n",
            "Epoch 96/100\n",
            "60000/60000 [==============================] - 2s 33us/step - loss: 0.1024 - val_loss: 0.1011\n",
            "Epoch 97/100\n",
            "60000/60000 [==============================] - 2s 33us/step - loss: 0.1022 - val_loss: 0.1012\n",
            "Epoch 98/100\n",
            "60000/60000 [==============================] - 2s 33us/step - loss: 0.1021 - val_loss: 0.1009\n",
            "Epoch 99/100\n",
            "60000/60000 [==============================] - 2s 33us/step - loss: 0.1019 - val_loss: 0.1007\n",
            "Epoch 100/100\n",
            "60000/60000 [==============================] - 2s 34us/step - loss: 0.1017 - val_loss: 0.1010\n"
          ],
          "name": "stdout"
        },
        {
          "output_type": "execute_result",
          "data": {
            "text/plain": [
              "<keras.callbacks.History at 0x7ff8363b9b00>"
            ]
          },
          "metadata": {
            "tags": []
          },
          "execution_count": 12
        }
      ]
    },
    {
      "cell_type": "code",
      "metadata": {
        "id": "-q--48NZYsoc",
        "colab_type": "code",
        "colab": {
          "base_uri": "https://localhost:8080/",
          "height": 303
        },
        "outputId": "33918881-0b81-43f5-db00-658522b2aff6"
      },
      "source": [
        "decoded_imgs = autoencoder.predict(x_test)\n",
        "\n",
        "n = 10\n",
        "plt.figure(figsize=(20, 4))\n",
        "for i in range(n):\n",
        "    # display original\n",
        "    ax = plt.subplot(2, n, i+1)\n",
        "    plt.imshow(x_test[i].reshape(28, 28))\n",
        "    plt.gray()\n",
        "    ax.get_xaxis().set_visible(False)\n",
        "    ax.get_yaxis().set_visible(False)\n",
        "\n",
        "    # display reconstruction\n",
        "    ax = plt.subplot(2, n, i + n)\n",
        "    plt.imshow(decoded_imgs[i].reshape(28, 28))\n",
        "    plt.gray()\n",
        "    ax.get_xaxis().set_visible(False)\n",
        "    ax.get_yaxis().set_visible(False)\n",
        "plt.show()"
      ],
      "execution_count": 14,
      "outputs": [
        {
          "output_type": "stream",
          "text": [
            "/usr/local/lib/python3.6/dist-packages/ipykernel_launcher.py:7: MatplotlibDeprecationWarning: Adding an axes using the same arguments as a previous axes currently reuses the earlier instance.  In a future version, a new instance will always be created and returned.  Meanwhile, this warning can be suppressed, and the future behavior ensured, by passing a unique label to each axes instance.\n",
            "  import sys\n"
          ],
          "name": "stderr"
        },
        {
          "output_type": "display_data",
          "data": {
            "image/png": "[encoded data removed]",
            "text/plain": [
              "<Figure size 1440x288 with 19 Axes>"
            ]
          },
          "metadata": {
            "tags": []
          }
        }
      ]
    },
    {
      "cell_type": "markdown",
      "metadata": {
        "id": "VjtLwob4Xov3",
        "colab_type": "text"
      },
      "source": [
        "Convolutional autoencoder"
      ]
    },
    {
      "cell_type": "code",
      "metadata": {
        "id": "pGtvI8tyXqAI",
        "colab_type": "code",
        "colab": {
          "base_uri": "https://localhost:8080/",
          "height": 106
        },
        "outputId": "dea27573-22ef-410a-912c-af4db52a40ee"
      },
      "source": [
        "from keras.layers import Input, Dense, Conv2D, MaxPooling2D, UpSampling2D\n",
        "from keras.models import Model\n",
        "from keras import backend as K\n",
        "\n",
        "input_img = Input(shape=(28, 28, 1))  # adapt this if using `channels_first` image data format\n",
        "\n",
        "x = Conv2D(16, (3, 3), activation='relu', padding='same')(input_img)\n",
        "x = MaxPooling2D((2, 2), padding='same')(x)\n",
        "x = Conv2D(8, (3, 3), activation='relu', padding='same')(x)\n",
        "x = MaxPooling2D((2, 2), padding='same')(x)\n",
        "x = Conv2D(8, (3, 3), activation='relu', padding='same')(x)\n",
        "encoded = MaxPooling2D((2, 2), padding='same')(x)\n",
        "\n",
        "# at this point the representation is (4, 4, 8) i.e. 128-dimensional\n",
        "\n",
        "x = Conv2D(8, (3, 3), activation='relu', padding='same')(encoded)\n",
        "x = UpSampling2D((2, 2))(x)\n",
        "x = Conv2D(8, (3, 3), activation='relu', padding='same')(x)\n",
        "x = UpSampling2D((2, 2))(x)\n",
        "x = Conv2D(16, (3, 3), activation='relu')(x)\n",
        "x = UpSampling2D((2, 2))(x)\n",
        "decoded = Conv2D(1, (3, 3), activation='sigmoid', padding='same')(x)\n",
        "\n",
        "autoencoder = Model(input_img, decoded)\n",
        "autoencoder.compile(optimizer='adadelta', loss='binary_crossentropy')"
      ],
      "execution_count": 16,
      "outputs": [
        {
          "output_type": "stream",
          "text": [
            "WARNING:tensorflow:From /usr/local/lib/python3.6/dist-packages/keras/backend/tensorflow_backend.py:4267: The name tf.nn.max_pool is deprecated. Please use tf.nn.max_pool2d instead.\n",
            "\n",
            "WARNING:tensorflow:From /usr/local/lib/python3.6/dist-packages/keras/backend/tensorflow_backend.py:2239: The name tf.image.resize_nearest_neighbor is deprecated. Please use tf.compat.v1.image.resize_nearest_neighbor instead.\n",
            "\n"
          ],
          "name": "stdout"
        }
      ]
    },
    {
      "cell_type": "code",
      "metadata": {
        "id": "yVeg2MOnX4Qi",
        "colab_type": "code",
        "colab": {}
      },
      "source": [
        "from keras.datasets import mnist\n",
        "import numpy as np\n",
        "\n",
        "(x_train, _), (x_test, _) = mnist.load_data()\n",
        "\n",
        "x_train = x_train.astype('float32') / 255.\n",
        "x_test = x_test.astype('float32') / 255.\n",
        "x_train = np.reshape(x_train, (len(x_train), 28, 28, 1))  # adapt this if using `channels_first` image data format\n",
        "x_test = np.reshape(x_test, (len(x_test), 28, 28, 1))  # adapt this if using `channels_first` image data format"
      ],
      "execution_count": 0,
      "outputs": []
    },
    {
      "cell_type": "code",
      "metadata": {
        "id": "0C1zwhoTYF_5",
        "colab_type": "code",
        "colab": {
          "base_uri": "https://localhost:8080/",
          "height": 1000
        },
        "outputId": "e2b4db89-c15b-4d2b-e288-614b2655e6ff"
      },
      "source": [
        "autoencoder.fit(x_train, x_train,\n",
        "                epochs=50,\n",
        "                batch_size=128,\n",
        "                shuffle=True,\n",
        "                validation_data=(x_test, x_test))"
      ],
      "execution_count": 18,
      "outputs": [
        {
          "output_type": "stream",
          "text": [
            "Train on 60000 samples, validate on 10000 samples\n",
            "Epoch 1/50\n",
            "60000/60000 [==============================] - 11s 179us/step - loss: 0.2008 - val_loss: 0.1721\n",
            "Epoch 2/50\n",
            "60000/60000 [==============================] - 6s 100us/step - loss: 0.1500 - val_loss: 0.1413\n",
            "Epoch 3/50\n",
            "60000/60000 [==============================] - 6s 105us/step - loss: 0.1365 - val_loss: 0.1316\n",
            "Epoch 4/50\n",
            "60000/60000 [==============================] - 6s 106us/step - loss: 0.1289 - val_loss: 0.1248\n",
            "Epoch 5/50\n",
            "60000/60000 [==============================] - 6s 106us/step - loss: 0.1242 - val_loss: 0.1189\n",
            "Epoch 6/50\n",
            "60000/60000 [==============================] - 6s 106us/step - loss: 0.1208 - val_loss: 0.1177\n",
            "Epoch 7/50\n",
            "60000/60000 [==============================] - 6s 105us/step - loss: 0.1180 - val_loss: 0.1133\n",
            "Epoch 8/50\n",
            "60000/60000 [==============================] - 6s 105us/step - loss: 0.1160 - val_loss: 0.1126\n",
            "Epoch 9/50\n",
            "60000/60000 [==============================] - 6s 105us/step - loss: 0.1146 - val_loss: 0.1130\n",
            "Epoch 10/50\n",
            "60000/60000 [==============================] - 6s 106us/step - loss: 0.1133 - val_loss: 0.1105\n",
            "Epoch 11/50\n",
            "60000/60000 [==============================] - 6s 104us/step - loss: 0.1118 - val_loss: 0.1083\n",
            "Epoch 12/50\n",
            "60000/60000 [==============================] - 6s 105us/step - loss: 0.1107 - val_loss: 0.1079\n",
            "Epoch 13/50\n",
            "60000/60000 [==============================] - 6s 106us/step - loss: 0.1100 - val_loss: 0.1083\n",
            "Epoch 14/50\n",
            "60000/60000 [==============================] - 6s 105us/step - loss: 0.1090 - val_loss: 0.1073\n",
            "Epoch 15/50\n",
            "60000/60000 [==============================] - 6s 107us/step - loss: 0.1084 - val_loss: 0.1068\n",
            "Epoch 16/50\n",
            "60000/60000 [==============================] - 7s 110us/step - loss: 0.1078 - val_loss: 0.1103\n",
            "Epoch 17/50\n",
            "60000/60000 [==============================] - 7s 109us/step - loss: 0.1073 - val_loss: 0.1080\n",
            "Epoch 18/50\n",
            "60000/60000 [==============================] - 7s 109us/step - loss: 0.1064 - val_loss: 0.1034\n",
            "Epoch 19/50\n",
            "60000/60000 [==============================] - 7s 109us/step - loss: 0.1059 - val_loss: 0.1087\n",
            "Epoch 20/50\n",
            "60000/60000 [==============================] - 6s 108us/step - loss: 0.1057 - val_loss: 0.1076\n",
            "Epoch 21/50\n",
            "60000/60000 [==============================] - 7s 109us/step - loss: 0.1049 - val_loss: 0.1017\n",
            "Epoch 22/50\n",
            "60000/60000 [==============================] - 7s 109us/step - loss: 0.1047 - val_loss: 0.1035\n",
            "Epoch 23/50\n",
            "60000/60000 [==============================] - 7s 109us/step - loss: 0.1042 - val_loss: 0.1057\n",
            "Epoch 24/50\n",
            "60000/60000 [==============================] - 7s 109us/step - loss: 0.1039 - val_loss: 0.1042\n",
            "Epoch 25/50\n",
            "60000/60000 [==============================] - 7s 109us/step - loss: 0.1036 - val_loss: 0.1006\n",
            "Epoch 26/50\n",
            "60000/60000 [==============================] - 7s 109us/step - loss: 0.1030 - val_loss: 0.0997\n",
            "Epoch 27/50\n",
            "60000/60000 [==============================] - 7s 111us/step - loss: 0.1025 - val_loss: 0.1022\n",
            "Epoch 28/50\n",
            "60000/60000 [==============================] - 7s 111us/step - loss: 0.1022 - val_loss: 0.1015\n",
            "Epoch 29/50\n",
            "60000/60000 [==============================] - 7s 109us/step - loss: 0.1021 - val_loss: 0.1028\n",
            "Epoch 30/50\n",
            "60000/60000 [==============================] - 7s 109us/step - loss: 0.1018 - val_loss: 0.1009\n",
            "Epoch 31/50\n",
            "60000/60000 [==============================] - 6s 108us/step - loss: 0.1014 - val_loss: 0.1016\n",
            "Epoch 32/50\n",
            "60000/60000 [==============================] - 7s 109us/step - loss: 0.1009 - val_loss: 0.1013\n",
            "Epoch 33/50\n",
            "60000/60000 [==============================] - 7s 109us/step - loss: 0.1007 - val_loss: 0.1006\n",
            "Epoch 34/50\n",
            "60000/60000 [==============================] - 7s 109us/step - loss: 0.1005 - val_loss: 0.1013\n",
            "Epoch 35/50\n",
            "60000/60000 [==============================] - 7s 108us/step - loss: 0.1006 - val_loss: 0.0978\n",
            "Epoch 36/50\n",
            "60000/60000 [==============================] - 6s 108us/step - loss: 0.1001 - val_loss: 0.0978\n",
            "Epoch 37/50\n",
            "60000/60000 [==============================] - 7s 109us/step - loss: 0.0999 - val_loss: 0.0974\n",
            "Epoch 38/50\n",
            "60000/60000 [==============================] - 7s 109us/step - loss: 0.0997 - val_loss: 0.1066\n",
            "Epoch 39/50\n",
            "60000/60000 [==============================] - 7s 109us/step - loss: 0.0997 - val_loss: 0.0988\n",
            "Epoch 40/50\n",
            "60000/60000 [==============================] - 7s 109us/step - loss: 0.0995 - val_loss: 0.1028\n",
            "Epoch 41/50\n",
            "60000/60000 [==============================] - 7s 109us/step - loss: 0.0991 - val_loss: 0.0991\n",
            "Epoch 42/50\n",
            "60000/60000 [==============================] - 6s 108us/step - loss: 0.0991 - val_loss: 0.0977\n",
            "Epoch 43/50\n",
            "60000/60000 [==============================] - 6s 108us/step - loss: 0.0988 - val_loss: 0.0973\n",
            "Epoch 44/50\n",
            "60000/60000 [==============================] - 6s 108us/step - loss: 0.0985 - val_loss: 0.0973\n",
            "Epoch 45/50\n",
            "60000/60000 [==============================] - 6s 108us/step - loss: 0.0984 - val_loss: 0.1013\n",
            "Epoch 46/50\n",
            "60000/60000 [==============================] - 6s 108us/step - loss: 0.0983 - val_loss: 0.0967\n",
            "Epoch 47/50\n",
            "60000/60000 [==============================] - 7s 109us/step - loss: 0.0983 - val_loss: 0.1005\n",
            "Epoch 48/50\n",
            "60000/60000 [==============================] - 6s 108us/step - loss: 0.0982 - val_loss: 0.0959\n",
            "Epoch 49/50\n",
            "60000/60000 [==============================] - 7s 109us/step - loss: 0.0981 - val_loss: 0.0957\n",
            "Epoch 50/50\n",
            "60000/60000 [==============================] - 6s 108us/step - loss: 0.0980 - val_loss: 0.0995\n"
          ],
          "name": "stdout"
        },
        {
          "output_type": "execute_result",
          "data": {
            "text/plain": [
              "<keras.callbacks.History at 0x7ff7dbee8940>"
            ]
          },
          "metadata": {
            "tags": []
          },
          "execution_count": 18
        }
      ]
    },
    {
      "cell_type": "code",
      "metadata": {
        "id": "5tCbsQUoYHvR",
        "colab_type": "code",
        "colab": {
          "base_uri": "https://localhost:8080/",
          "height": 303
        },
        "outputId": "55f47c10-3316-4bd3-95d9-fa013b32664e"
      },
      "source": [
        "decoded_imgs = autoencoder.predict(x_test)\n",
        "\n",
        "n = 10\n",
        "plt.figure(figsize=(20, 4))\n",
        "for i in range(n):\n",
        "    # display original\n",
        "    ax = plt.subplot(2, n, i+1)\n",
        "    plt.imshow(x_test[i].reshape(28, 28))\n",
        "    plt.gray()\n",
        "    ax.get_xaxis().set_visible(False)\n",
        "    ax.get_yaxis().set_visible(False)\n",
        "\n",
        "    # display reconstruction\n",
        "    ax = plt.subplot(2, n, i + n)\n",
        "    plt.imshow(decoded_imgs[i].reshape(28, 28))\n",
        "    plt.gray()\n",
        "    ax.get_xaxis().set_visible(False)\n",
        "    ax.get_yaxis().set_visible(False)\n",
        "plt.show()"
      ],
      "execution_count": 19,
      "outputs": [
        {
          "output_type": "stream",
          "text": [
            "/usr/local/lib/python3.6/dist-packages/ipykernel_launcher.py:7: MatplotlibDeprecationWarning: Adding an axes using the same arguments as a previous axes currently reuses the earlier instance.  In a future version, a new instance will always be created and returned.  Meanwhile, this warning can be suppressed, and the future behavior ensured, by passing a unique label to each axes instance.\n",
            "  import sys\n"
          ],
          "name": "stderr"
        },
        {
          "output_type": "display_data",
          "data": {
            "image/png": "[encoded data removed]",
            "text/plain": [
              "<Figure size 1440x288 with 19 Axes>"
            ]
          },
          "metadata": {
            "tags": []
          }
        }
      ]
    },
    {
      "cell_type": "markdown",
      "metadata": {
        "id": "YgiDBZtgaNol",
        "colab_type": "text"
      },
      "source": [
        "Application to image denoising"
      ]
    },
    {
      "cell_type": "code",
      "metadata": {
        "id": "X-0QsrrjXoGZ",
        "colab_type": "code",
        "colab": {}
      },
      "source": [
        "from keras.datasets import mnist\n",
        "import numpy as np\n",
        "\n",
        "(x_train, _), (x_test, _) = mnist.load_data()\n",
        "\n",
        "x_train = x_train.astype('float32') / 255.\n",
        "x_test = x_test.astype('float32') / 255.\n",
        "x_train = np.reshape(x_train, (len(x_train), 28, 28, 1))  # adapt this if using `channels_first` image data format\n",
        "x_test = np.reshape(x_test, (len(x_test), 28, 28, 1))  # adapt this if using `channels_first` image data format\n",
        "\n",
        "noise_factor = 0.5\n",
        "x_train_noisy = x_train + noise_factor * np.random.normal(loc=0.0, scale=1.0, size=x_train.shape) \n",
        "x_test_noisy = x_test + noise_factor * np.random.normal(loc=0.0, scale=1.0, size=x_test.shape) \n",
        "\n",
        "x_train_noisy = np.clip(x_train_noisy, 0., 1.)\n",
        "x_test_noisy = np.clip(x_test_noisy, 0., 1.)"
      ],
      "execution_count": 0,
      "outputs": []
    },
    {
      "cell_type": "code",
      "metadata": {
        "id": "I4Eodkf5aWu1",
        "colab_type": "code",
        "colab": {
          "base_uri": "https://localhost:8080/",
          "height": 149
        },
        "outputId": "53288fdf-3922-4add-c587-b6b93ada70d6"
      },
      "source": [
        "n = 10\n",
        "plt.figure(figsize=(20, 2))\n",
        "for i in range(n):\n",
        "    ax = plt.subplot(1, n, i+1)\n",
        "    plt.imshow(x_test_noisy[i].reshape(28, 28))\n",
        "    plt.gray()\n",
        "    ax.get_xaxis().set_visible(False)\n",
        "    ax.get_yaxis().set_visible(False)\n",
        "plt.show()"
      ],
      "execution_count": 22,
      "outputs": [
        {
          "output_type": "display_data",
          "data": {
            "image/png": "[encoded data removed]",
            "text/plain": [
              "<Figure size 1440x144 with 10 Axes>"
            ]
          },
          "metadata": {
            "tags": []
          }
        }
      ]
    },
    {
      "cell_type": "code",
      "metadata": {
        "id": "DGv6g4Mtahms",
        "colab_type": "code",
        "colab": {}
      },
      "source": [
        "input_img = Input(shape=(28, 28, 1))  # adapt this if using `channels_first` image data format\n",
        "\n",
        "x = Conv2D(32, (3, 3), activation='relu', padding='same')(input_img)\n",
        "x = MaxPooling2D((2, 2), padding='same')(x)\n",
        "x = Conv2D(32, (3, 3), activation='relu', padding='same')(x)\n",
        "encoded = MaxPooling2D((2, 2), padding='same')(x)\n",
        "\n",
        "# at this point the representation is (7, 7, 32)\n",
        "\n",
        "x = Conv2D(32, (3, 3), activation='relu', padding='same')(encoded)\n",
        "x = UpSampling2D((2, 2))(x)\n",
        "x = Conv2D(32, (3, 3), activation='relu', padding='same')(x)\n",
        "x = UpSampling2D((2, 2))(x)\n",
        "decoded = Conv2D(1, (3, 3), activation='sigmoid', padding='same')(x)\n",
        "\n",
        "autoencoder = Model(input_img, decoded)\n",
        "autoencoder.compile(optimizer='adadelta', loss='binary_crossentropy')"
      ],
      "execution_count": 0,
      "outputs": []
    },
    {
      "cell_type": "code",
      "metadata": {
        "id": "WUy0WUnUamoS",
        "colab_type": "code",
        "colab": {
          "base_uri": "https://localhost:8080/",
          "height": 208
        },
        "outputId": "3e0c4276-c019-4fd8-fcb4-b634f241cf60"
      },
      "source": [
        "autoencoder.fit(x_train_noisy, x_train,\n",
        "                epochs=100,\n",
        "                batch_size=128,\n",
        "                shuffle=True,\n",
        "                validation_data=(x_test_noisy, x_test))"
      ],
      "execution_count": 0,
      "outputs": [
        {
          "output_type": "stream",
          "text": [
            "Train on 60000 samples, validate on 10000 samples\n",
            "Epoch 1/100\n",
            "60000/60000 [==============================] - 8s 137us/step - loss: 0.1799 - val_loss: 0.1272\n",
            "Epoch 2/100\n",
            "60000/60000 [==============================] - 7s 120us/step - loss: 0.1191 - val_loss: 0.1133\n",
            "Epoch 3/100\n",
            "60000/60000 [==============================] - 7s 123us/step - loss: 0.1115 - val_loss: 0.1114\n",
            "Epoch 4/100\n",
            "60000/60000 [==============================] - 7s 121us/step - loss: 0.1079 - val_loss: 0.1042\n",
            "Epoch 5/100\n",
            "51200/60000 [========================>.....] - ETA: 1s - loss: 0.1058"
          ],
          "name": "stdout"
        }
      ]
    },
    {
      "cell_type": "code",
      "metadata": {
        "id": "8fNUBHiZa7H5",
        "colab_type": "code",
        "colab": {}
      },
      "source": [
        ""
      ],
      "execution_count": 0,
      "outputs": []
    }
  ]
}